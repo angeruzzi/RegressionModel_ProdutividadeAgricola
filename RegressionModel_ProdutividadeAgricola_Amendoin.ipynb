{
  "nbformat": 4,
  "nbformat_minor": 0,
  "metadata": {
    "colab": {
      "name": "RegressionModel_ProdutividadeAgricola_Amendoin.ipynb",
      "provenance": [],
      "collapsed_sections": [],
      "toc_visible": true,
      "authorship_tag": "ABX9TyPleH/yhbxZTKudsWRvkw/Y",
      "include_colab_link": true
    },
    "kernelspec": {
      "name": "python3",
      "display_name": "Python 3"
    },
    "language_info": {
      "name": "python"
    }
  },
  "cells": [
    {
      "cell_type": "markdown",
      "metadata": {
        "id": "view-in-github",
        "colab_type": "text"
      },
      "source": [
        "<a href=\"https://colab.research.google.com/github/angeruzzi/RegressionModel_ProdutividadeAgricola/blob/main/RegressionModel_ProdutividadeAgricola_Amendoin.ipynb\" target=\"_parent\"><img src=\"https://colab.research.google.com/assets/colab-badge.svg\" alt=\"Open In Colab\"/></a>"
      ]
    },
    {
      "cell_type": "markdown",
      "metadata": {
        "id": "cvbQFtK006Eu"
      },
      "source": [
        "#Predição Produtividade Agrícola: Produção de Amendoin"
      ]
    },
    {
      "cell_type": "markdown",
      "metadata": {
        "id": "eD1iLfyf1IXL"
      },
      "source": [
        "---------------------------------\n",
        "**Autor**: [Alessandro S. Angeruzzi](https://www.linkedin.com/in/alessandroangeruzzi/)\n",
        "\n",
        "**Licença**: Creative Commons\n",
        "\n",
        "---------------------------------"
      ]
    },
    {
      "cell_type": "markdown",
      "metadata": {
        "id": "ABN9dmiM3GMb"
      },
      "source": [
        "##**Sumário**\n",
        "\n",
        "1. [Introdução](#intro)\n",
        "2. [Bibliotecas](#bibliotecas)\n",
        "3. [Dados](#dados)\n",
        "4. [Análises](#analise)\n",
        "5. [Modelagem](#modelagem)\n",
        "    *\t[Funções](#funcoes)\n",
        "    *\t[Modelos](#modelos)\n",
        "    *\t[Teste Inicial](#teste)\n",
        "    *\t[Seleção de Variáveis](#selecao)\n",
        "        *\t[Maior Correlação](#correlacao)\n",
        "        *\t[Features Importantes](#fimportantes)\n",
        "    *\t[Hipertunagem](#hipertunagem)\n",
        "    *\t[Modelo Final](#final)\n",
        "6. [Conclusão](#conclusao)\n",
        "7. [Fontes](#fontes)\n"
      ]
    },
    {
      "cell_type": "markdown",
      "metadata": {
        "id": "Ms6wVjCI7NeO"
      },
      "source": [
        "##**1 - Introdução** <a name=\"intro\"></a>\n",
        "\n",
        "O amendoim é um grão que sempre esteve presente na cultura brasileira, não somente em doces mas também em alguns pratos salgados e muito consumido também como aperitivo. \n",
        "\n",
        "A planta é original da América do Sul, porém hoje já é encontrada em quase todo o mundo principalmente na África e Ásia e a semente é consumida mundialmente, principalmente na forma inteira torrada como também em forma de óleo, pasta e farinha na panificação.\n",
        "\n",
        "O Brasil ocupa apenas a 14ª posição na produção mundial, sendo responsável por pouco mais de 1% dessa produção, já no quadro de exportadores ocupa a 5ª posição; ele é produzido em praticamente todo o território nacional, mas o estado de SP se destaca concentrando cerca de 90% da produção nacional, que também é onde há a maior produtividade, próximo de 3.500 kg/ha, que está entre as maiores mundiais e fica bem além da conseguida no Nordeste que é cerca de 1.164 kg/ha, esta diferença pode ser devida a tradição da produção no interior de SP mas pode ser um indicativo que o clima é um fator de grande importância.\n",
        "\n",
        "Neste trabalho exploro a relação da produtividade com os dados meteorológicos tentando não somente encontrar a relação mas também um modelo de predição de produtividade com esses dados."
      ]
    },
    {
      "cell_type": "markdown",
      "metadata": {
        "id": "QklQzb7O6CB0"
      },
      "source": [
        "##**2 - Bibliotecas** <a name=\"bibliotecas\"></a>\n",
        "\n",
        "Importação das Bilbiotecas Python utilizadas"
      ]
    },
    {
      "cell_type": "code",
      "metadata": {
        "id": "7a8Af4fJ05PO"
      },
      "source": [
        "import numpy as np\n",
        "import pandas as pd\n",
        "\n",
        "import matplotlib.pyplot as plt\n",
        "import seaborn as sns\n",
        "\n",
        "from sklearn.linear_model import LinearRegression\n",
        "from sklearn.linear_model import Ridge\n",
        "from sklearn.linear_model import LassoLars\n",
        "from sklearn.linear_model import BayesianRidge\n",
        "from sklearn.neighbors import KNeighborsRegressor\n",
        "from sklearn.tree import DecisionTreeRegressor\n",
        "from sklearn.ensemble import RandomForestRegressor\n",
        "from sklearn.ensemble import GradientBoostingRegressor\n",
        "from lightgbm import LGBMRegressor\n",
        "\n",
        "from sklearn.preprocessing import StandardScaler\n",
        "from sklearn.preprocessing import QuantileTransformer\n",
        "from sklearn.preprocessing import Normalizer\n",
        "\n",
        "import sklearn.metrics as me\n",
        "from sklearn.model_selection import train_test_split\n",
        "from sklearn.model_selection import cross_validate\n",
        "from sklearn.model_selection import RepeatedKFold\n",
        "from sklearn.model_selection import GridSearchCV\n",
        "\n",
        "import warnings\n",
        "warnings.filterwarnings('ignore')"
      ],
      "execution_count": 111,
      "outputs": []
    },
    {
      "cell_type": "markdown",
      "metadata": {
        "id": "Ms4l5oV-6vtQ"
      },
      "source": [
        "##**3 - Dados** <a name=\"dados\"></a>\n",
        "O dados utilizados são referentes a 6 cidades do interior do estado de SP: Jaboticabal, Tupã, herculandia, Pompéia, Iacri e Marília.\n",
        "\n",
        "Eles contêm:\n",
        "*   Local      : Cidade de coleta dos dados\n",
        "*   ano        : Ano do Registro\n",
        "*   area       : Área de cultivo\n",
        "*   produtividade de amendoim\t:\tt/ha\n",
        "\n",
        "e as demais features são de dados meteorológicos dessas cidades, \n",
        "são todas numéricas e cada uma possui 5 colunas, 4 referentes a medição de diferentes meses, mais a média ou a soma desse período: \n",
        "_SEP (Setembro), _OCT (Outubro), _NOV (Novembro), _DEC (Dezembro) e _ANN (Média ou Soma)\n",
        "*   temp\t      :\ttemperatura do ar (°C)\n",
        "*   ue \t      :\tumidade específica (g vapor/kg ar)\n",
        "*   ur\t        :\tumidade relativa (%)\n",
        "*   vv\t        :\tvelocidade do vento (m/s)\n",
        "*   tmax\t      :\ttemperatura máxima absoluta do ar (°C)\n",
        "*   tmin\t      :\ttemperatura mínima absoluta do ar (°C)\n",
        "*   umidsolos\t:\tumidade do solo (0-100%)\n",
        "*   tamplitude\t:\tamplitude da temperatura do ar (°C)\n",
        "*   Qo\t        :\tIrradiância solar no topo da atmosfera (MJ/m2dia)\n",
        "*   Prec\t      :\tPrecipitação pluvial (mm)\n",
        "*   Qg\t        :\tIrradiância Solar Global (MJ/m2dia)\n",
        "*   ETP\t      :\tEvapotranspiração Potencial (mm)\n",
        "\n",
        "Os períodos utilizados, setembro a dezembro, são referentes ao ciclo principal de cultivo no interior de SP:  \n",
        "* Setembro: Plantio e Desenvolvimento Vegetativo \n",
        "* Outubro: Florada\n",
        "* Novembro: Desenvolvimento das vagens\n",
        "* Dezembro: Maturação e inicio da Colheita"
      ]
    },
    {
      "cell_type": "code",
      "metadata": {
        "id": "5lbhLqJ305z9"
      },
      "source": [
        "fonte = 'https://github.com/angeruzzi/Datasource/blob/1c3af4c563eaa9b80ab627ef619e66c82a8e1ad4/dados_producao_amendoim.xlsx?raw=true'\n",
        "dados  = pd.read_excel(fonte)"
      ],
      "execution_count": 112,
      "outputs": []
    },
    {
      "cell_type": "code",
      "metadata": {
        "id": "TMRDgfZ76-W4",
        "colab": {
          "base_uri": "https://localhost:8080/"
        },
        "outputId": "c9833d3e-e506-498a-fb73-2f08893921d9"
      },
      "source": [
        "#Tamanho do Dataframe: 64 features e 222 registros\n",
        "dados.shape"
      ],
      "execution_count": 113,
      "outputs": [
        {
          "output_type": "execute_result",
          "data": {
            "text/plain": [
              "(222, 64)"
            ]
          },
          "metadata": {},
          "execution_count": 113
        }
      ]
    },
    {
      "cell_type": "code",
      "metadata": {
        "id": "erScqeD-8F24",
        "colab": {
          "base_uri": "https://localhost:8080/"
        },
        "outputId": "335ef1d1-5fa5-4276-cb77-280823c8d80e"
      },
      "source": [
        "dados.info()"
      ],
      "execution_count": 114,
      "outputs": [
        {
          "output_type": "stream",
          "name": "stdout",
          "text": [
            "<class 'pandas.core.frame.DataFrame'>\n",
            "RangeIndex: 222 entries, 0 to 221\n",
            "Data columns (total 64 columns):\n",
            " #   Column          Non-Null Count  Dtype  \n",
            "---  ------          --------------  -----  \n",
            " 0   Local           222 non-null    object \n",
            " 1   ano             222 non-null    int64  \n",
            " 2   area            222 non-null    int64  \n",
            " 3   produtividade   222 non-null    float64\n",
            " 4   temp_SEP        222 non-null    float64\n",
            " 5   temp_OCT        222 non-null    float64\n",
            " 6   temp_NOV        222 non-null    float64\n",
            " 7   temp_DEC        222 non-null    float64\n",
            " 8   temp_ANN        222 non-null    float64\n",
            " 9   ue_SEP          222 non-null    float64\n",
            " 10  ue_OCT          222 non-null    float64\n",
            " 11  ue_NOV          222 non-null    float64\n",
            " 12  ue_DEC          222 non-null    float64\n",
            " 13  ue_ANN          222 non-null    float64\n",
            " 14  ur_SEP          222 non-null    float64\n",
            " 15  ur_OCT          222 non-null    float64\n",
            " 16  ur_NOV          222 non-null    float64\n",
            " 17  ur_DEC          222 non-null    float64\n",
            " 18  ur_ANN          222 non-null    float64\n",
            " 19  vv_SEP          222 non-null    float64\n",
            " 20  vv_OCT          222 non-null    float64\n",
            " 21  vv_NOV          222 non-null    float64\n",
            " 22  vv_DEC          222 non-null    float64\n",
            " 23  vv_ANN          222 non-null    float64\n",
            " 24  tmax_SEP        222 non-null    float64\n",
            " 25  tmax_OCT        222 non-null    float64\n",
            " 26  tmax_NOV        222 non-null    float64\n",
            " 27  tmax_DEC        222 non-null    float64\n",
            " 28  tmax_ANN        222 non-null    float64\n",
            " 29  tmin_SEP        222 non-null    float64\n",
            " 30  tmin_OCT        222 non-null    float64\n",
            " 31  tmin_NOV        222 non-null    float64\n",
            " 32  tmin_DEC        222 non-null    float64\n",
            " 33  tmin_ANN        222 non-null    float64\n",
            " 34  umidsolos_SEP   222 non-null    float64\n",
            " 35  umidsolos_OCT   222 non-null    float64\n",
            " 36  umidsolos_NOV   222 non-null    float64\n",
            " 37  umidsolos_DEC   222 non-null    float64\n",
            " 38  umidsolos_ANN   222 non-null    float64\n",
            " 39  tamplitude_SEP  222 non-null    float64\n",
            " 40  tamplitude_OCT  222 non-null    float64\n",
            " 41  tamplitude_NOV  222 non-null    float64\n",
            " 42  tamplitude_DEC  222 non-null    float64\n",
            " 43  tamplitude_ANN  222 non-null    float64\n",
            " 44  Qo_SEP          222 non-null    float64\n",
            " 45  Qo_OCT          222 non-null    float64\n",
            " 46  Qo_NOV          222 non-null    float64\n",
            " 47  Qo_DEC          222 non-null    float64\n",
            " 48  Qo_ANN          222 non-null    float64\n",
            " 49  Prec_SEP        222 non-null    float64\n",
            " 50  Prec_OCT        222 non-null    float64\n",
            " 51  Prec_NOV        222 non-null    float64\n",
            " 52  Prec_DEC        222 non-null    float64\n",
            " 53  Prec_ANN        222 non-null    float64\n",
            " 54  Qg_SEP          222 non-null    float64\n",
            " 55  Qg_OCT          222 non-null    float64\n",
            " 56  Qg_NOV          222 non-null    float64\n",
            " 57  Qg_DEC          222 non-null    float64\n",
            " 58  Qg_ANN          222 non-null    float64\n",
            " 59  ETP_SEP         222 non-null    float64\n",
            " 60  ETP_OCT         222 non-null    float64\n",
            " 61  ETP_NOV         222 non-null    float64\n",
            " 62  ETP_DEC         222 non-null    float64\n",
            " 63  ETP_ANN         222 non-null    float64\n",
            "dtypes: float64(61), int64(2), object(1)\n",
            "memory usage: 111.1+ KB\n"
          ]
        }
      ]
    },
    {
      "cell_type": "code",
      "metadata": {
        "id": "HpFOX7aX619o",
        "colab": {
          "base_uri": "https://localhost:8080/",
          "height": 226
        },
        "outputId": "69fac552-16b9-46bf-cc35-61a5ea1289bd"
      },
      "source": [
        "dados.head()"
      ],
      "execution_count": 115,
      "outputs": [
        {
          "output_type": "execute_result",
          "data": {
            "text/html": [
              "<div>\n",
              "<style scoped>\n",
              "    .dataframe tbody tr th:only-of-type {\n",
              "        vertical-align: middle;\n",
              "    }\n",
              "\n",
              "    .dataframe tbody tr th {\n",
              "        vertical-align: top;\n",
              "    }\n",
              "\n",
              "    .dataframe thead th {\n",
              "        text-align: right;\n",
              "    }\n",
              "</style>\n",
              "<table border=\"1\" class=\"dataframe\">\n",
              "  <thead>\n",
              "    <tr style=\"text-align: right;\">\n",
              "      <th></th>\n",
              "      <th>Local</th>\n",
              "      <th>ano</th>\n",
              "      <th>area</th>\n",
              "      <th>produtividade</th>\n",
              "      <th>temp_SEP</th>\n",
              "      <th>temp_OCT</th>\n",
              "      <th>temp_NOV</th>\n",
              "      <th>temp_DEC</th>\n",
              "      <th>temp_ANN</th>\n",
              "      <th>ue_SEP</th>\n",
              "      <th>ue_OCT</th>\n",
              "      <th>ue_NOV</th>\n",
              "      <th>ue_DEC</th>\n",
              "      <th>ue_ANN</th>\n",
              "      <th>ur_SEP</th>\n",
              "      <th>ur_OCT</th>\n",
              "      <th>ur_NOV</th>\n",
              "      <th>ur_DEC</th>\n",
              "      <th>ur_ANN</th>\n",
              "      <th>vv_SEP</th>\n",
              "      <th>vv_OCT</th>\n",
              "      <th>vv_NOV</th>\n",
              "      <th>vv_DEC</th>\n",
              "      <th>vv_ANN</th>\n",
              "      <th>tmax_SEP</th>\n",
              "      <th>tmax_OCT</th>\n",
              "      <th>tmax_NOV</th>\n",
              "      <th>tmax_DEC</th>\n",
              "      <th>tmax_ANN</th>\n",
              "      <th>tmin_SEP</th>\n",
              "      <th>tmin_OCT</th>\n",
              "      <th>tmin_NOV</th>\n",
              "      <th>tmin_DEC</th>\n",
              "      <th>tmin_ANN</th>\n",
              "      <th>umidsolos_SEP</th>\n",
              "      <th>umidsolos_OCT</th>\n",
              "      <th>umidsolos_NOV</th>\n",
              "      <th>umidsolos_DEC</th>\n",
              "      <th>umidsolos_ANN</th>\n",
              "      <th>tamplitude_SEP</th>\n",
              "      <th>tamplitude_OCT</th>\n",
              "      <th>tamplitude_NOV</th>\n",
              "      <th>tamplitude_DEC</th>\n",
              "      <th>tamplitude_ANN</th>\n",
              "      <th>Qo_SEP</th>\n",
              "      <th>Qo_OCT</th>\n",
              "      <th>Qo_NOV</th>\n",
              "      <th>Qo_DEC</th>\n",
              "      <th>Qo_ANN</th>\n",
              "      <th>Prec_SEP</th>\n",
              "      <th>Prec_OCT</th>\n",
              "      <th>Prec_NOV</th>\n",
              "      <th>Prec_DEC</th>\n",
              "      <th>Prec_ANN</th>\n",
              "      <th>Qg_SEP</th>\n",
              "      <th>Qg_OCT</th>\n",
              "      <th>Qg_NOV</th>\n",
              "      <th>Qg_DEC</th>\n",
              "      <th>Qg_ANN</th>\n",
              "      <th>ETP_SEP</th>\n",
              "      <th>ETP_OCT</th>\n",
              "      <th>ETP_NOV</th>\n",
              "      <th>ETP_DEC</th>\n",
              "      <th>ETP_ANN</th>\n",
              "    </tr>\n",
              "  </thead>\n",
              "  <tbody>\n",
              "    <tr>\n",
              "      <th>0</th>\n",
              "      <td>Jaboticabal</td>\n",
              "      <td>1984</td>\n",
              "      <td>6500</td>\n",
              "      <td>4561.3</td>\n",
              "      <td>22.1</td>\n",
              "      <td>26.1</td>\n",
              "      <td>25.6</td>\n",
              "      <td>23.6</td>\n",
              "      <td>24.4</td>\n",
              "      <td>9.89</td>\n",
              "      <td>12.27</td>\n",
              "      <td>13.49</td>\n",
              "      <td>15.81</td>\n",
              "      <td>12.9</td>\n",
              "      <td>59.9</td>\n",
              "      <td>58.9</td>\n",
              "      <td>65.5</td>\n",
              "      <td>82.5</td>\n",
              "      <td>66.7</td>\n",
              "      <td>2.52</td>\n",
              "      <td>2.53</td>\n",
              "      <td>2.64</td>\n",
              "      <td>2.11</td>\n",
              "      <td>2.5</td>\n",
              "      <td>34.8</td>\n",
              "      <td>37.4</td>\n",
              "      <td>38.5</td>\n",
              "      <td>31.0</td>\n",
              "      <td>35.4</td>\n",
              "      <td>9.4</td>\n",
              "      <td>11.4</td>\n",
              "      <td>15.4</td>\n",
              "      <td>16.4</td>\n",
              "      <td>13.2</td>\n",
              "      <td>65.0</td>\n",
              "      <td>64.0</td>\n",
              "      <td>66.0</td>\n",
              "      <td>82.0</td>\n",
              "      <td>69.3</td>\n",
              "      <td>25.4</td>\n",
              "      <td>26.0</td>\n",
              "      <td>23.1</td>\n",
              "      <td>14.6</td>\n",
              "      <td>22.3</td>\n",
              "      <td>33.41</td>\n",
              "      <td>38.02</td>\n",
              "      <td>41.02</td>\n",
              "      <td>42.24</td>\n",
              "      <td>38.7</td>\n",
              "      <td>95.7</td>\n",
              "      <td>66.3</td>\n",
              "      <td>195.3</td>\n",
              "      <td>259.5</td>\n",
              "      <td>616.8</td>\n",
              "      <td>18.93</td>\n",
              "      <td>23.22</td>\n",
              "      <td>23.12</td>\n",
              "      <td>20.20</td>\n",
              "      <td>21.4</td>\n",
              "      <td>90.2</td>\n",
              "      <td>121.7</td>\n",
              "      <td>128.6</td>\n",
              "      <td>122.2</td>\n",
              "      <td>462.7</td>\n",
              "    </tr>\n",
              "    <tr>\n",
              "      <th>1</th>\n",
              "      <td>Jaboticabal</td>\n",
              "      <td>1985</td>\n",
              "      <td>7031</td>\n",
              "      <td>4535.3</td>\n",
              "      <td>25.7</td>\n",
              "      <td>27.5</td>\n",
              "      <td>24.7</td>\n",
              "      <td>25.0</td>\n",
              "      <td>25.7</td>\n",
              "      <td>8.61</td>\n",
              "      <td>10.07</td>\n",
              "      <td>13.43</td>\n",
              "      <td>14.83</td>\n",
              "      <td>11.7</td>\n",
              "      <td>43.8</td>\n",
              "      <td>45.4</td>\n",
              "      <td>67.9</td>\n",
              "      <td>72.8</td>\n",
              "      <td>57.5</td>\n",
              "      <td>2.95</td>\n",
              "      <td>2.59</td>\n",
              "      <td>2.30</td>\n",
              "      <td>2.12</td>\n",
              "      <td>2.5</td>\n",
              "      <td>38.8</td>\n",
              "      <td>39.6</td>\n",
              "      <td>38.1</td>\n",
              "      <td>35.5</td>\n",
              "      <td>38.0</td>\n",
              "      <td>14.8</td>\n",
              "      <td>14.5</td>\n",
              "      <td>14.6</td>\n",
              "      <td>16.1</td>\n",
              "      <td>15.0</td>\n",
              "      <td>59.0</td>\n",
              "      <td>59.0</td>\n",
              "      <td>71.0</td>\n",
              "      <td>72.0</td>\n",
              "      <td>65.3</td>\n",
              "      <td>24.0</td>\n",
              "      <td>25.1</td>\n",
              "      <td>23.5</td>\n",
              "      <td>19.4</td>\n",
              "      <td>23.0</td>\n",
              "      <td>33.37</td>\n",
              "      <td>37.98</td>\n",
              "      <td>41.00</td>\n",
              "      <td>42.23</td>\n",
              "      <td>38.6</td>\n",
              "      <td>18.6</td>\n",
              "      <td>63.3</td>\n",
              "      <td>213.3</td>\n",
              "      <td>189.6</td>\n",
              "      <td>484.8</td>\n",
              "      <td>19.96</td>\n",
              "      <td>24.18</td>\n",
              "      <td>25.32</td>\n",
              "      <td>25.15</td>\n",
              "      <td>23.7</td>\n",
              "      <td>105.0</td>\n",
              "      <td>127.8</td>\n",
              "      <td>124.1</td>\n",
              "      <td>129.4</td>\n",
              "      <td>486.3</td>\n",
              "    </tr>\n",
              "    <tr>\n",
              "      <th>2</th>\n",
              "      <td>Jaboticabal</td>\n",
              "      <td>1986</td>\n",
              "      <td>5610</td>\n",
              "      <td>4500.9</td>\n",
              "      <td>22.9</td>\n",
              "      <td>25.3</td>\n",
              "      <td>26.1</td>\n",
              "      <td>23.6</td>\n",
              "      <td>24.5</td>\n",
              "      <td>9.89</td>\n",
              "      <td>10.44</td>\n",
              "      <td>13.12</td>\n",
              "      <td>15.93</td>\n",
              "      <td>12.3</td>\n",
              "      <td>57.9</td>\n",
              "      <td>53.6</td>\n",
              "      <td>61.9</td>\n",
              "      <td>83.2</td>\n",
              "      <td>64.2</td>\n",
              "      <td>2.92</td>\n",
              "      <td>2.83</td>\n",
              "      <td>2.58</td>\n",
              "      <td>2.13</td>\n",
              "      <td>2.6</td>\n",
              "      <td>36.5</td>\n",
              "      <td>39.2</td>\n",
              "      <td>37.5</td>\n",
              "      <td>31.3</td>\n",
              "      <td>36.1</td>\n",
              "      <td>11.3</td>\n",
              "      <td>10.0</td>\n",
              "      <td>11.8</td>\n",
              "      <td>17.8</td>\n",
              "      <td>12.7</td>\n",
              "      <td>64.0</td>\n",
              "      <td>62.0</td>\n",
              "      <td>65.0</td>\n",
              "      <td>80.0</td>\n",
              "      <td>67.8</td>\n",
              "      <td>25.2</td>\n",
              "      <td>29.2</td>\n",
              "      <td>25.7</td>\n",
              "      <td>13.5</td>\n",
              "      <td>23.4</td>\n",
              "      <td>33.32</td>\n",
              "      <td>37.96</td>\n",
              "      <td>40.99</td>\n",
              "      <td>42.23</td>\n",
              "      <td>38.6</td>\n",
              "      <td>23.1</td>\n",
              "      <td>75.6</td>\n",
              "      <td>136.8</td>\n",
              "      <td>345.6</td>\n",
              "      <td>581.1</td>\n",
              "      <td>18.77</td>\n",
              "      <td>22.70</td>\n",
              "      <td>23.52</td>\n",
              "      <td>19.84</td>\n",
              "      <td>21.2</td>\n",
              "      <td>93.5</td>\n",
              "      <td>117.6</td>\n",
              "      <td>131.0</td>\n",
              "      <td>122.0</td>\n",
              "      <td>464.1</td>\n",
              "    </tr>\n",
              "    <tr>\n",
              "      <th>3</th>\n",
              "      <td>Jaboticabal</td>\n",
              "      <td>1987</td>\n",
              "      <td>5000</td>\n",
              "      <td>4473.5</td>\n",
              "      <td>24.4</td>\n",
              "      <td>25.4</td>\n",
              "      <td>25.1</td>\n",
              "      <td>24.1</td>\n",
              "      <td>24.8</td>\n",
              "      <td>10.68</td>\n",
              "      <td>12.82</td>\n",
              "      <td>14.47</td>\n",
              "      <td>15.87</td>\n",
              "      <td>13.5</td>\n",
              "      <td>57.1</td>\n",
              "      <td>63.4</td>\n",
              "      <td>70.9</td>\n",
              "      <td>80.9</td>\n",
              "      <td>68.1</td>\n",
              "      <td>3.26</td>\n",
              "      <td>2.59</td>\n",
              "      <td>2.47</td>\n",
              "      <td>2.05</td>\n",
              "      <td>2.6</td>\n",
              "      <td>37.6</td>\n",
              "      <td>39.2</td>\n",
              "      <td>37.3</td>\n",
              "      <td>31.4</td>\n",
              "      <td>36.4</td>\n",
              "      <td>12.0</td>\n",
              "      <td>13.2</td>\n",
              "      <td>16.3</td>\n",
              "      <td>15.9</td>\n",
              "      <td>14.4</td>\n",
              "      <td>61.0</td>\n",
              "      <td>65.0</td>\n",
              "      <td>71.0</td>\n",
              "      <td>77.0</td>\n",
              "      <td>68.5</td>\n",
              "      <td>25.6</td>\n",
              "      <td>26.0</td>\n",
              "      <td>20.9</td>\n",
              "      <td>15.6</td>\n",
              "      <td>22.0</td>\n",
              "      <td>33.29</td>\n",
              "      <td>37.93</td>\n",
              "      <td>40.98</td>\n",
              "      <td>42.23</td>\n",
              "      <td>38.6</td>\n",
              "      <td>78.6</td>\n",
              "      <td>101.4</td>\n",
              "      <td>205.8</td>\n",
              "      <td>191.1</td>\n",
              "      <td>576.9</td>\n",
              "      <td>18.14</td>\n",
              "      <td>21.29</td>\n",
              "      <td>24.25</td>\n",
              "      <td>23.14</td>\n",
              "      <td>21.7</td>\n",
              "      <td>99.5</td>\n",
              "      <td>117.9</td>\n",
              "      <td>126.1</td>\n",
              "      <td>124.4</td>\n",
              "      <td>467.9</td>\n",
              "    </tr>\n",
              "    <tr>\n",
              "      <th>4</th>\n",
              "      <td>Jaboticabal</td>\n",
              "      <td>1988</td>\n",
              "      <td>4000</td>\n",
              "      <td>4884.2</td>\n",
              "      <td>26.3</td>\n",
              "      <td>24.8</td>\n",
              "      <td>23.7</td>\n",
              "      <td>24.9</td>\n",
              "      <td>24.9</td>\n",
              "      <td>8.30</td>\n",
              "      <td>12.45</td>\n",
              "      <td>13.43</td>\n",
              "      <td>14.95</td>\n",
              "      <td>12.3</td>\n",
              "      <td>40.5</td>\n",
              "      <td>63.4</td>\n",
              "      <td>71.5</td>\n",
              "      <td>74.2</td>\n",
              "      <td>62.4</td>\n",
              "      <td>3.18</td>\n",
              "      <td>2.73</td>\n",
              "      <td>2.74</td>\n",
              "      <td>1.99</td>\n",
              "      <td>2.7</td>\n",
              "      <td>40.4</td>\n",
              "      <td>37.1</td>\n",
              "      <td>33.7</td>\n",
              "      <td>35.4</td>\n",
              "      <td>36.7</td>\n",
              "      <td>14.3</td>\n",
              "      <td>14.4</td>\n",
              "      <td>12.3</td>\n",
              "      <td>16.9</td>\n",
              "      <td>14.5</td>\n",
              "      <td>59.0</td>\n",
              "      <td>64.0</td>\n",
              "      <td>70.0</td>\n",
              "      <td>71.0</td>\n",
              "      <td>66.0</td>\n",
              "      <td>26.1</td>\n",
              "      <td>22.7</td>\n",
              "      <td>21.4</td>\n",
              "      <td>18.5</td>\n",
              "      <td>22.2</td>\n",
              "      <td>33.43</td>\n",
              "      <td>38.04</td>\n",
              "      <td>41.04</td>\n",
              "      <td>42.25</td>\n",
              "      <td>38.7</td>\n",
              "      <td>11.1</td>\n",
              "      <td>170.7</td>\n",
              "      <td>113.1</td>\n",
              "      <td>201.0</td>\n",
              "      <td>495.9</td>\n",
              "      <td>19.21</td>\n",
              "      <td>17.56</td>\n",
              "      <td>23.87</td>\n",
              "      <td>23.48</td>\n",
              "      <td>21.0</td>\n",
              "      <td>107.8</td>\n",
              "      <td>115.7</td>\n",
              "      <td>118.9</td>\n",
              "      <td>128.7</td>\n",
              "      <td>471.1</td>\n",
              "    </tr>\n",
              "  </tbody>\n",
              "</table>\n",
              "</div>"
            ],
            "text/plain": [
              "         Local   ano  area  produtividade  temp_SEP  temp_OCT  temp_NOV  \\\n",
              "0  Jaboticabal  1984  6500         4561.3      22.1      26.1      25.6   \n",
              "1  Jaboticabal  1985  7031         4535.3      25.7      27.5      24.7   \n",
              "2  Jaboticabal  1986  5610         4500.9      22.9      25.3      26.1   \n",
              "3  Jaboticabal  1987  5000         4473.5      24.4      25.4      25.1   \n",
              "4  Jaboticabal  1988  4000         4884.2      26.3      24.8      23.7   \n",
              "\n",
              "   temp_DEC  temp_ANN  ue_SEP  ue_OCT  ue_NOV  ue_DEC  ue_ANN  ur_SEP  ur_OCT  \\\n",
              "0      23.6      24.4    9.89   12.27   13.49   15.81    12.9    59.9    58.9   \n",
              "1      25.0      25.7    8.61   10.07   13.43   14.83    11.7    43.8    45.4   \n",
              "2      23.6      24.5    9.89   10.44   13.12   15.93    12.3    57.9    53.6   \n",
              "3      24.1      24.8   10.68   12.82   14.47   15.87    13.5    57.1    63.4   \n",
              "4      24.9      24.9    8.30   12.45   13.43   14.95    12.3    40.5    63.4   \n",
              "\n",
              "   ur_NOV  ur_DEC  ur_ANN  vv_SEP  vv_OCT  vv_NOV  vv_DEC  vv_ANN  tmax_SEP  \\\n",
              "0    65.5    82.5    66.7    2.52    2.53    2.64    2.11     2.5      34.8   \n",
              "1    67.9    72.8    57.5    2.95    2.59    2.30    2.12     2.5      38.8   \n",
              "2    61.9    83.2    64.2    2.92    2.83    2.58    2.13     2.6      36.5   \n",
              "3    70.9    80.9    68.1    3.26    2.59    2.47    2.05     2.6      37.6   \n",
              "4    71.5    74.2    62.4    3.18    2.73    2.74    1.99     2.7      40.4   \n",
              "\n",
              "   tmax_OCT  tmax_NOV  tmax_DEC  tmax_ANN  tmin_SEP  tmin_OCT  tmin_NOV  \\\n",
              "0      37.4      38.5      31.0      35.4       9.4      11.4      15.4   \n",
              "1      39.6      38.1      35.5      38.0      14.8      14.5      14.6   \n",
              "2      39.2      37.5      31.3      36.1      11.3      10.0      11.8   \n",
              "3      39.2      37.3      31.4      36.4      12.0      13.2      16.3   \n",
              "4      37.1      33.7      35.4      36.7      14.3      14.4      12.3   \n",
              "\n",
              "   tmin_DEC  tmin_ANN  umidsolos_SEP  umidsolos_OCT  umidsolos_NOV  \\\n",
              "0      16.4      13.2           65.0           64.0           66.0   \n",
              "1      16.1      15.0           59.0           59.0           71.0   \n",
              "2      17.8      12.7           64.0           62.0           65.0   \n",
              "3      15.9      14.4           61.0           65.0           71.0   \n",
              "4      16.9      14.5           59.0           64.0           70.0   \n",
              "\n",
              "   umidsolos_DEC  umidsolos_ANN  tamplitude_SEP  tamplitude_OCT  \\\n",
              "0           82.0           69.3            25.4            26.0   \n",
              "1           72.0           65.3            24.0            25.1   \n",
              "2           80.0           67.8            25.2            29.2   \n",
              "3           77.0           68.5            25.6            26.0   \n",
              "4           71.0           66.0            26.1            22.7   \n",
              "\n",
              "   tamplitude_NOV  tamplitude_DEC  tamplitude_ANN  Qo_SEP  Qo_OCT  Qo_NOV  \\\n",
              "0            23.1            14.6            22.3   33.41   38.02   41.02   \n",
              "1            23.5            19.4            23.0   33.37   37.98   41.00   \n",
              "2            25.7            13.5            23.4   33.32   37.96   40.99   \n",
              "3            20.9            15.6            22.0   33.29   37.93   40.98   \n",
              "4            21.4            18.5            22.2   33.43   38.04   41.04   \n",
              "\n",
              "   Qo_DEC  Qo_ANN  Prec_SEP  Prec_OCT  Prec_NOV  Prec_DEC  Prec_ANN  Qg_SEP  \\\n",
              "0   42.24    38.7      95.7      66.3     195.3     259.5     616.8   18.93   \n",
              "1   42.23    38.6      18.6      63.3     213.3     189.6     484.8   19.96   \n",
              "2   42.23    38.6      23.1      75.6     136.8     345.6     581.1   18.77   \n",
              "3   42.23    38.6      78.6     101.4     205.8     191.1     576.9   18.14   \n",
              "4   42.25    38.7      11.1     170.7     113.1     201.0     495.9   19.21   \n",
              "\n",
              "   Qg_OCT  Qg_NOV  Qg_DEC  Qg_ANN  ETP_SEP  ETP_OCT  ETP_NOV  ETP_DEC  ETP_ANN  \n",
              "0   23.22   23.12   20.20    21.4     90.2    121.7    128.6    122.2    462.7  \n",
              "1   24.18   25.32   25.15    23.7    105.0    127.8    124.1    129.4    486.3  \n",
              "2   22.70   23.52   19.84    21.2     93.5    117.6    131.0    122.0    464.1  \n",
              "3   21.29   24.25   23.14    21.7     99.5    117.9    126.1    124.4    467.9  \n",
              "4   17.56   23.87   23.48    21.0    107.8    115.7    118.9    128.7    471.1  "
            ]
          },
          "metadata": {},
          "execution_count": 115
        }
      ]
    },
    {
      "cell_type": "code",
      "metadata": {
        "id": "WDtleX7w_y6C",
        "colab": {
          "base_uri": "https://localhost:8080/",
          "height": 1000
        },
        "outputId": "0c0cca85-3972-4346-e1fc-a5bba64b2c32"
      },
      "source": [
        "pd.set_option('display.max_rows', None, 'display.max_columns', None)\n",
        "dados.describe().T"
      ],
      "execution_count": 116,
      "outputs": [
        {
          "output_type": "execute_result",
          "data": {
            "text/html": [
              "<div>\n",
              "<style scoped>\n",
              "    .dataframe tbody tr th:only-of-type {\n",
              "        vertical-align: middle;\n",
              "    }\n",
              "\n",
              "    .dataframe tbody tr th {\n",
              "        vertical-align: top;\n",
              "    }\n",
              "\n",
              "    .dataframe thead th {\n",
              "        text-align: right;\n",
              "    }\n",
              "</style>\n",
              "<table border=\"1\" class=\"dataframe\">\n",
              "  <thead>\n",
              "    <tr style=\"text-align: right;\">\n",
              "      <th></th>\n",
              "      <th>count</th>\n",
              "      <th>mean</th>\n",
              "      <th>std</th>\n",
              "      <th>min</th>\n",
              "      <th>25%</th>\n",
              "      <th>50%</th>\n",
              "      <th>75%</th>\n",
              "      <th>max</th>\n",
              "    </tr>\n",
              "  </thead>\n",
              "  <tbody>\n",
              "    <tr>\n",
              "      <th>ano</th>\n",
              "      <td>222.0</td>\n",
              "      <td>2002.000000</td>\n",
              "      <td>10.701207</td>\n",
              "      <td>1984.00</td>\n",
              "      <td>1993.0000</td>\n",
              "      <td>2002.000</td>\n",
              "      <td>2011.0000</td>\n",
              "      <td>2020.00</td>\n",
              "    </tr>\n",
              "    <tr>\n",
              "      <th>area</th>\n",
              "      <td>222.0</td>\n",
              "      <td>3259.409910</td>\n",
              "      <td>1690.075381</td>\n",
              "      <td>350.00</td>\n",
              "      <td>2000.0000</td>\n",
              "      <td>3040.000</td>\n",
              "      <td>4200.0000</td>\n",
              "      <td>9340.00</td>\n",
              "    </tr>\n",
              "    <tr>\n",
              "      <th>produtividade</th>\n",
              "      <td>222.0</td>\n",
              "      <td>4697.263063</td>\n",
              "      <td>666.001670</td>\n",
              "      <td>3147.80</td>\n",
              "      <td>4223.1000</td>\n",
              "      <td>4679.450</td>\n",
              "      <td>5085.0000</td>\n",
              "      <td>6705.90</td>\n",
              "    </tr>\n",
              "    <tr>\n",
              "      <th>temp_SEP</th>\n",
              "      <td>222.0</td>\n",
              "      <td>23.197748</td>\n",
              "      <td>1.870525</td>\n",
              "      <td>18.70</td>\n",
              "      <td>21.8250</td>\n",
              "      <td>23.000</td>\n",
              "      <td>24.5000</td>\n",
              "      <td>28.00</td>\n",
              "    </tr>\n",
              "    <tr>\n",
              "      <th>temp_OCT</th>\n",
              "      <td>222.0</td>\n",
              "      <td>25.002703</td>\n",
              "      <td>1.612309</td>\n",
              "      <td>21.10</td>\n",
              "      <td>23.7000</td>\n",
              "      <td>24.700</td>\n",
              "      <td>26.1000</td>\n",
              "      <td>29.20</td>\n",
              "    </tr>\n",
              "    <tr>\n",
              "      <th>temp_NOV</th>\n",
              "      <td>222.0</td>\n",
              "      <td>25.198198</td>\n",
              "      <td>1.008918</td>\n",
              "      <td>22.80</td>\n",
              "      <td>24.5000</td>\n",
              "      <td>25.100</td>\n",
              "      <td>25.8000</td>\n",
              "      <td>27.70</td>\n",
              "    </tr>\n",
              "    <tr>\n",
              "      <th>temp_DEC</th>\n",
              "      <td>222.0</td>\n",
              "      <td>25.344144</td>\n",
              "      <td>0.941279</td>\n",
              "      <td>22.90</td>\n",
              "      <td>24.7000</td>\n",
              "      <td>25.300</td>\n",
              "      <td>25.9750</td>\n",
              "      <td>27.70</td>\n",
              "    </tr>\n",
              "    <tr>\n",
              "      <th>temp_ANN</th>\n",
              "      <td>222.0</td>\n",
              "      <td>24.696847</td>\n",
              "      <td>0.985110</td>\n",
              "      <td>21.90</td>\n",
              "      <td>24.1250</td>\n",
              "      <td>24.600</td>\n",
              "      <td>25.2000</td>\n",
              "      <td>27.20</td>\n",
              "    </tr>\n",
              "    <tr>\n",
              "      <th>ue_SEP</th>\n",
              "      <td>222.0</td>\n",
              "      <td>10.477928</td>\n",
              "      <td>1.296669</td>\n",
              "      <td>6.59</td>\n",
              "      <td>9.7175</td>\n",
              "      <td>10.310</td>\n",
              "      <td>11.2900</td>\n",
              "      <td>14.28</td>\n",
              "    </tr>\n",
              "    <tr>\n",
              "      <th>ue_OCT</th>\n",
              "      <td>222.0</td>\n",
              "      <td>12.685450</td>\n",
              "      <td>1.233460</td>\n",
              "      <td>9.46</td>\n",
              "      <td>12.0200</td>\n",
              "      <td>12.730</td>\n",
              "      <td>13.4300</td>\n",
              "      <td>15.62</td>\n",
              "    </tr>\n",
              "    <tr>\n",
              "      <th>ue_NOV</th>\n",
              "      <td>222.0</td>\n",
              "      <td>13.878243</td>\n",
              "      <td>1.347004</td>\n",
              "      <td>10.50</td>\n",
              "      <td>13.0000</td>\n",
              "      <td>13.670</td>\n",
              "      <td>14.5750</td>\n",
              "      <td>17.40</td>\n",
              "    </tr>\n",
              "    <tr>\n",
              "      <th>ue_DEC</th>\n",
              "      <td>222.0</td>\n",
              "      <td>15.410586</td>\n",
              "      <td>1.063003</td>\n",
              "      <td>12.70</td>\n",
              "      <td>14.7700</td>\n",
              "      <td>15.500</td>\n",
              "      <td>16.0500</td>\n",
              "      <td>17.52</td>\n",
              "    </tr>\n",
              "    <tr>\n",
              "      <th>ue_ANN</th>\n",
              "      <td>222.0</td>\n",
              "      <td>13.117117</td>\n",
              "      <td>0.925347</td>\n",
              "      <td>10.90</td>\n",
              "      <td>12.5000</td>\n",
              "      <td>13.100</td>\n",
              "      <td>13.6000</td>\n",
              "      <td>15.90</td>\n",
              "    </tr>\n",
              "    <tr>\n",
              "      <th>ur_SEP</th>\n",
              "      <td>222.0</td>\n",
              "      <td>60.071171</td>\n",
              "      <td>9.987258</td>\n",
              "      <td>31.10</td>\n",
              "      <td>53.3250</td>\n",
              "      <td>59.900</td>\n",
              "      <td>66.9000</td>\n",
              "      <td>80.60</td>\n",
              "    </tr>\n",
              "    <tr>\n",
              "      <th>ur_OCT</th>\n",
              "      <td>222.0</td>\n",
              "      <td>64.212613</td>\n",
              "      <td>8.167180</td>\n",
              "      <td>43.30</td>\n",
              "      <td>58.4750</td>\n",
              "      <td>65.800</td>\n",
              "      <td>69.3000</td>\n",
              "      <td>79.60</td>\n",
              "    </tr>\n",
              "    <tr>\n",
              "      <th>ur_NOV</th>\n",
              "      <td>222.0</td>\n",
              "      <td>68.290541</td>\n",
              "      <td>7.014171</td>\n",
              "      <td>51.90</td>\n",
              "      <td>62.9000</td>\n",
              "      <td>68.800</td>\n",
              "      <td>73.2750</td>\n",
              "      <td>83.90</td>\n",
              "    </tr>\n",
              "    <tr>\n",
              "      <th>ur_DEC</th>\n",
              "      <td>222.0</td>\n",
              "      <td>74.434685</td>\n",
              "      <td>6.305540</td>\n",
              "      <td>56.90</td>\n",
              "      <td>71.3000</td>\n",
              "      <td>76.050</td>\n",
              "      <td>77.9000</td>\n",
              "      <td>85.80</td>\n",
              "    </tr>\n",
              "    <tr>\n",
              "      <th>ur_ANN</th>\n",
              "      <td>222.0</td>\n",
              "      <td>66.766667</td>\n",
              "      <td>5.638312</td>\n",
              "      <td>52.70</td>\n",
              "      <td>63.4000</td>\n",
              "      <td>66.500</td>\n",
              "      <td>70.5000</td>\n",
              "      <td>81.60</td>\n",
              "    </tr>\n",
              "    <tr>\n",
              "      <th>vv_SEP</th>\n",
              "      <td>222.0</td>\n",
              "      <td>2.428378</td>\n",
              "      <td>0.458184</td>\n",
              "      <td>1.51</td>\n",
              "      <td>1.9825</td>\n",
              "      <td>2.520</td>\n",
              "      <td>2.8000</td>\n",
              "      <td>3.27</td>\n",
              "    </tr>\n",
              "    <tr>\n",
              "      <th>vv_OCT</th>\n",
              "      <td>222.0</td>\n",
              "      <td>2.238694</td>\n",
              "      <td>0.412774</td>\n",
              "      <td>1.45</td>\n",
              "      <td>1.8200</td>\n",
              "      <td>2.350</td>\n",
              "      <td>2.5300</td>\n",
              "      <td>3.31</td>\n",
              "    </tr>\n",
              "    <tr>\n",
              "      <th>vv_NOV</th>\n",
              "      <td>222.0</td>\n",
              "      <td>2.079054</td>\n",
              "      <td>0.396997</td>\n",
              "      <td>1.16</td>\n",
              "      <td>1.7125</td>\n",
              "      <td>2.160</td>\n",
              "      <td>2.4100</td>\n",
              "      <td>2.74</td>\n",
              "    </tr>\n",
              "    <tr>\n",
              "      <th>vv_DEC</th>\n",
              "      <td>222.0</td>\n",
              "      <td>1.810676</td>\n",
              "      <td>0.359678</td>\n",
              "      <td>1.10</td>\n",
              "      <td>1.4625</td>\n",
              "      <td>1.910</td>\n",
              "      <td>2.0875</td>\n",
              "      <td>2.91</td>\n",
              "    </tr>\n",
              "    <tr>\n",
              "      <th>vv_ANN</th>\n",
              "      <td>222.0</td>\n",
              "      <td>2.144595</td>\n",
              "      <td>0.375786</td>\n",
              "      <td>1.40</td>\n",
              "      <td>1.7000</td>\n",
              "      <td>2.300</td>\n",
              "      <td>2.4000</td>\n",
              "      <td>2.80</td>\n",
              "    </tr>\n",
              "    <tr>\n",
              "      <th>tmax_SEP</th>\n",
              "      <td>222.0</td>\n",
              "      <td>36.216216</td>\n",
              "      <td>2.478488</td>\n",
              "      <td>29.70</td>\n",
              "      <td>34.5250</td>\n",
              "      <td>36.400</td>\n",
              "      <td>37.8000</td>\n",
              "      <td>42.00</td>\n",
              "    </tr>\n",
              "    <tr>\n",
              "      <th>tmax_OCT</th>\n",
              "      <td>222.0</td>\n",
              "      <td>36.984234</td>\n",
              "      <td>2.510534</td>\n",
              "      <td>30.90</td>\n",
              "      <td>35.2500</td>\n",
              "      <td>37.000</td>\n",
              "      <td>38.8000</td>\n",
              "      <td>43.40</td>\n",
              "    </tr>\n",
              "    <tr>\n",
              "      <th>tmax_NOV</th>\n",
              "      <td>222.0</td>\n",
              "      <td>35.945495</td>\n",
              "      <td>2.137502</td>\n",
              "      <td>31.00</td>\n",
              "      <td>34.2000</td>\n",
              "      <td>36.200</td>\n",
              "      <td>37.3000</td>\n",
              "      <td>41.40</td>\n",
              "    </tr>\n",
              "    <tr>\n",
              "      <th>tmax_DEC</th>\n",
              "      <td>222.0</td>\n",
              "      <td>34.569369</td>\n",
              "      <td>2.092814</td>\n",
              "      <td>30.00</td>\n",
              "      <td>33.1000</td>\n",
              "      <td>34.300</td>\n",
              "      <td>35.6750</td>\n",
              "      <td>40.40</td>\n",
              "    </tr>\n",
              "    <tr>\n",
              "      <th>tmax_ANN</th>\n",
              "      <td>222.0</td>\n",
              "      <td>35.947297</td>\n",
              "      <td>1.678845</td>\n",
              "      <td>31.70</td>\n",
              "      <td>34.9000</td>\n",
              "      <td>35.950</td>\n",
              "      <td>36.9000</td>\n",
              "      <td>40.60</td>\n",
              "    </tr>\n",
              "    <tr>\n",
              "      <th>tmin_SEP</th>\n",
              "      <td>222.0</td>\n",
              "      <td>10.785135</td>\n",
              "      <td>2.801713</td>\n",
              "      <td>2.70</td>\n",
              "      <td>9.1000</td>\n",
              "      <td>11.400</td>\n",
              "      <td>13.0000</td>\n",
              "      <td>16.50</td>\n",
              "    </tr>\n",
              "    <tr>\n",
              "      <th>tmin_OCT</th>\n",
              "      <td>222.0</td>\n",
              "      <td>13.272072</td>\n",
              "      <td>2.086269</td>\n",
              "      <td>8.70</td>\n",
              "      <td>12.0000</td>\n",
              "      <td>13.200</td>\n",
              "      <td>14.6000</td>\n",
              "      <td>18.10</td>\n",
              "    </tr>\n",
              "    <tr>\n",
              "      <th>tmin_NOV</th>\n",
              "      <td>222.0</td>\n",
              "      <td>14.533784</td>\n",
              "      <td>1.865059</td>\n",
              "      <td>9.70</td>\n",
              "      <td>13.3250</td>\n",
              "      <td>14.700</td>\n",
              "      <td>15.7000</td>\n",
              "      <td>19.10</td>\n",
              "    </tr>\n",
              "    <tr>\n",
              "      <th>tmin_DEC</th>\n",
              "      <td>222.0</td>\n",
              "      <td>16.410360</td>\n",
              "      <td>1.622113</td>\n",
              "      <td>12.00</td>\n",
              "      <td>15.3000</td>\n",
              "      <td>16.400</td>\n",
              "      <td>17.3000</td>\n",
              "      <td>20.30</td>\n",
              "    </tr>\n",
              "    <tr>\n",
              "      <th>tmin_ANN</th>\n",
              "      <td>222.0</td>\n",
              "      <td>13.764865</td>\n",
              "      <td>1.348916</td>\n",
              "      <td>10.50</td>\n",
              "      <td>12.8250</td>\n",
              "      <td>13.700</td>\n",
              "      <td>14.6000</td>\n",
              "      <td>17.20</td>\n",
              "    </tr>\n",
              "    <tr>\n",
              "      <th>umidsolos_SEP</th>\n",
              "      <td>222.0</td>\n",
              "      <td>49.486486</td>\n",
              "      <td>7.533172</td>\n",
              "      <td>39.00</td>\n",
              "      <td>44.0000</td>\n",
              "      <td>47.000</td>\n",
              "      <td>55.0000</td>\n",
              "      <td>70.00</td>\n",
              "    </tr>\n",
              "    <tr>\n",
              "      <th>umidsolos_OCT</th>\n",
              "      <td>222.0</td>\n",
              "      <td>50.725225</td>\n",
              "      <td>7.867753</td>\n",
              "      <td>39.00</td>\n",
              "      <td>45.0000</td>\n",
              "      <td>48.000</td>\n",
              "      <td>55.0000</td>\n",
              "      <td>77.00</td>\n",
              "    </tr>\n",
              "    <tr>\n",
              "      <th>umidsolos_NOV</th>\n",
              "      <td>222.0</td>\n",
              "      <td>52.216216</td>\n",
              "      <td>9.234409</td>\n",
              "      <td>40.00</td>\n",
              "      <td>45.0000</td>\n",
              "      <td>50.000</td>\n",
              "      <td>55.0000</td>\n",
              "      <td>80.00</td>\n",
              "    </tr>\n",
              "    <tr>\n",
              "      <th>umidsolos_DEC</th>\n",
              "      <td>222.0</td>\n",
              "      <td>55.657658</td>\n",
              "      <td>11.085024</td>\n",
              "      <td>41.00</td>\n",
              "      <td>48.0000</td>\n",
              "      <td>52.000</td>\n",
              "      <td>59.0000</td>\n",
              "      <td>89.00</td>\n",
              "    </tr>\n",
              "    <tr>\n",
              "      <th>umidsolos_ANN</th>\n",
              "      <td>222.0</td>\n",
              "      <td>52.041441</td>\n",
              "      <td>8.395156</td>\n",
              "      <td>41.30</td>\n",
              "      <td>45.8000</td>\n",
              "      <td>49.500</td>\n",
              "      <td>54.6750</td>\n",
              "      <td>75.50</td>\n",
              "    </tr>\n",
              "    <tr>\n",
              "      <th>tamplitude_SEP</th>\n",
              "      <td>222.0</td>\n",
              "      <td>25.439189</td>\n",
              "      <td>2.901824</td>\n",
              "      <td>18.10</td>\n",
              "      <td>23.6000</td>\n",
              "      <td>25.400</td>\n",
              "      <td>27.0750</td>\n",
              "      <td>33.50</td>\n",
              "    </tr>\n",
              "    <tr>\n",
              "      <th>tamplitude_OCT</th>\n",
              "      <td>222.0</td>\n",
              "      <td>23.713514</td>\n",
              "      <td>2.507202</td>\n",
              "      <td>17.40</td>\n",
              "      <td>22.3250</td>\n",
              "      <td>23.800</td>\n",
              "      <td>25.4000</td>\n",
              "      <td>29.20</td>\n",
              "    </tr>\n",
              "    <tr>\n",
              "      <th>tamplitude_NOV</th>\n",
              "      <td>222.0</td>\n",
              "      <td>21.419369</td>\n",
              "      <td>2.857258</td>\n",
              "      <td>13.80</td>\n",
              "      <td>19.7000</td>\n",
              "      <td>21.400</td>\n",
              "      <td>23.0750</td>\n",
              "      <td>28.30</td>\n",
              "    </tr>\n",
              "    <tr>\n",
              "      <th>tamplitude_DEC</th>\n",
              "      <td>222.0</td>\n",
              "      <td>18.168468</td>\n",
              "      <td>2.542756</td>\n",
              "      <td>11.30</td>\n",
              "      <td>16.5000</td>\n",
              "      <td>18.100</td>\n",
              "      <td>19.9000</td>\n",
              "      <td>24.60</td>\n",
              "    </tr>\n",
              "    <tr>\n",
              "      <th>tamplitude_ANN</th>\n",
              "      <td>222.0</td>\n",
              "      <td>22.197748</td>\n",
              "      <td>1.750616</td>\n",
              "      <td>17.20</td>\n",
              "      <td>21.3000</td>\n",
              "      <td>22.300</td>\n",
              "      <td>23.4000</td>\n",
              "      <td>26.50</td>\n",
              "    </tr>\n",
              "    <tr>\n",
              "      <th>Qo_SEP</th>\n",
              "      <td>222.0</td>\n",
              "      <td>33.238333</td>\n",
              "      <td>0.150725</td>\n",
              "      <td>33.00</td>\n",
              "      <td>33.0900</td>\n",
              "      <td>33.240</td>\n",
              "      <td>33.3800</td>\n",
              "      <td>33.47</td>\n",
              "    </tr>\n",
              "    <tr>\n",
              "      <th>Qo_OCT</th>\n",
              "      <td>222.0</td>\n",
              "      <td>37.954459</td>\n",
              "      <td>0.060394</td>\n",
              "      <td>37.84</td>\n",
              "      <td>37.9000</td>\n",
              "      <td>37.955</td>\n",
              "      <td>37.9900</td>\n",
              "      <td>38.07</td>\n",
              "    </tr>\n",
              "    <tr>\n",
              "      <th>Qo_NOV</th>\n",
              "      <td>222.0</td>\n",
              "      <td>41.066486</td>\n",
              "      <td>0.054981</td>\n",
              "      <td>40.97</td>\n",
              "      <td>41.0100</td>\n",
              "      <td>41.065</td>\n",
              "      <td>41.1100</td>\n",
              "      <td>41.16</td>\n",
              "    </tr>\n",
              "    <tr>\n",
              "      <th>Qo_DEC</th>\n",
              "      <td>222.0</td>\n",
              "      <td>42.347793</td>\n",
              "      <td>0.100113</td>\n",
              "      <td>42.22</td>\n",
              "      <td>42.2500</td>\n",
              "      <td>42.345</td>\n",
              "      <td>42.4500</td>\n",
              "      <td>42.48</td>\n",
              "    </tr>\n",
              "    <tr>\n",
              "      <th>Qo_ANN</th>\n",
              "      <td>222.0</td>\n",
              "      <td>38.652703</td>\n",
              "      <td>0.050040</td>\n",
              "      <td>38.60</td>\n",
              "      <td>38.6000</td>\n",
              "      <td>38.700</td>\n",
              "      <td>38.7000</td>\n",
              "      <td>38.70</td>\n",
              "    </tr>\n",
              "    <tr>\n",
              "      <th>Prec_SEP</th>\n",
              "      <td>222.0</td>\n",
              "      <td>72.008108</td>\n",
              "      <td>46.439412</td>\n",
              "      <td>2.40</td>\n",
              "      <td>29.2500</td>\n",
              "      <td>65.850</td>\n",
              "      <td>108.0750</td>\n",
              "      <td>194.10</td>\n",
              "    </tr>\n",
              "    <tr>\n",
              "      <th>Prec_OCT</th>\n",
              "      <td>222.0</td>\n",
              "      <td>105.321622</td>\n",
              "      <td>51.205358</td>\n",
              "      <td>31.20</td>\n",
              "      <td>58.5750</td>\n",
              "      <td>100.950</td>\n",
              "      <td>135.4500</td>\n",
              "      <td>237.60</td>\n",
              "    </tr>\n",
              "    <tr>\n",
              "      <th>Prec_NOV</th>\n",
              "      <td>222.0</td>\n",
              "      <td>133.613514</td>\n",
              "      <td>60.492457</td>\n",
              "      <td>36.30</td>\n",
              "      <td>79.5750</td>\n",
              "      <td>125.100</td>\n",
              "      <td>165.3000</td>\n",
              "      <td>318.90</td>\n",
              "    </tr>\n",
              "    <tr>\n",
              "      <th>Prec_DEC</th>\n",
              "      <td>222.0</td>\n",
              "      <td>183.809459</td>\n",
              "      <td>63.616841</td>\n",
              "      <td>57.30</td>\n",
              "      <td>141.6000</td>\n",
              "      <td>174.450</td>\n",
              "      <td>227.7000</td>\n",
              "      <td>345.60</td>\n",
              "    </tr>\n",
              "    <tr>\n",
              "      <th>Prec_ANN</th>\n",
              "      <td>222.0</td>\n",
              "      <td>494.752703</td>\n",
              "      <td>121.511947</td>\n",
              "      <td>268.20</td>\n",
              "      <td>413.7000</td>\n",
              "      <td>510.300</td>\n",
              "      <td>554.1000</td>\n",
              "      <td>925.20</td>\n",
              "    </tr>\n",
              "    <tr>\n",
              "      <th>Qg_SEP</th>\n",
              "      <td>222.0</td>\n",
              "      <td>18.484820</td>\n",
              "      <td>1.859488</td>\n",
              "      <td>13.19</td>\n",
              "      <td>17.4750</td>\n",
              "      <td>18.550</td>\n",
              "      <td>19.7900</td>\n",
              "      <td>22.68</td>\n",
              "    </tr>\n",
              "    <tr>\n",
              "      <th>Qg_OCT</th>\n",
              "      <td>222.0</td>\n",
              "      <td>20.893378</td>\n",
              "      <td>1.463543</td>\n",
              "      <td>17.24</td>\n",
              "      <td>19.7725</td>\n",
              "      <td>20.820</td>\n",
              "      <td>21.9300</td>\n",
              "      <td>24.88</td>\n",
              "    </tr>\n",
              "    <tr>\n",
              "      <th>Qg_NOV</th>\n",
              "      <td>222.0</td>\n",
              "      <td>22.785676</td>\n",
              "      <td>1.663715</td>\n",
              "      <td>17.11</td>\n",
              "      <td>21.7375</td>\n",
              "      <td>22.825</td>\n",
              "      <td>23.8200</td>\n",
              "      <td>26.33</td>\n",
              "    </tr>\n",
              "    <tr>\n",
              "      <th>Qg_DEC</th>\n",
              "      <td>222.0</td>\n",
              "      <td>22.329820</td>\n",
              "      <td>1.612271</td>\n",
              "      <td>18.12</td>\n",
              "      <td>21.2300</td>\n",
              "      <td>22.280</td>\n",
              "      <td>23.3000</td>\n",
              "      <td>25.99</td>\n",
              "    </tr>\n",
              "    <tr>\n",
              "      <th>Qg_ANN</th>\n",
              "      <td>222.0</td>\n",
              "      <td>21.124775</td>\n",
              "      <td>0.900009</td>\n",
              "      <td>18.10</td>\n",
              "      <td>20.8000</td>\n",
              "      <td>21.100</td>\n",
              "      <td>21.5000</td>\n",
              "      <td>24.10</td>\n",
              "    </tr>\n",
              "    <tr>\n",
              "      <th>ETP_SEP</th>\n",
              "      <td>222.0</td>\n",
              "      <td>94.409009</td>\n",
              "      <td>7.732151</td>\n",
              "      <td>75.80</td>\n",
              "      <td>89.1000</td>\n",
              "      <td>93.550</td>\n",
              "      <td>99.5000</td>\n",
              "      <td>114.80</td>\n",
              "    </tr>\n",
              "    <tr>\n",
              "      <th>ETP_OCT</th>\n",
              "      <td>222.0</td>\n",
              "      <td>116.181532</td>\n",
              "      <td>7.565603</td>\n",
              "      <td>97.90</td>\n",
              "      <td>110.3000</td>\n",
              "      <td>114.600</td>\n",
              "      <td>121.5750</td>\n",
              "      <td>136.00</td>\n",
              "    </tr>\n",
              "    <tr>\n",
              "      <th>ETP_NOV</th>\n",
              "      <td>222.0</td>\n",
              "      <td>126.683784</td>\n",
              "      <td>5.039968</td>\n",
              "      <td>115.10</td>\n",
              "      <td>123.0750</td>\n",
              "      <td>126.400</td>\n",
              "      <td>129.6750</td>\n",
              "      <td>139.40</td>\n",
              "    </tr>\n",
              "    <tr>\n",
              "      <th>ETP_DEC</th>\n",
              "      <td>222.0</td>\n",
              "      <td>131.405856</td>\n",
              "      <td>4.866248</td>\n",
              "      <td>118.60</td>\n",
              "      <td>128.3000</td>\n",
              "      <td>131.000</td>\n",
              "      <td>134.5750</td>\n",
              "      <td>143.90</td>\n",
              "    </tr>\n",
              "    <tr>\n",
              "      <th>ETP_ANN</th>\n",
              "      <td>222.0</td>\n",
              "      <td>468.680180</td>\n",
              "      <td>17.973698</td>\n",
              "      <td>417.50</td>\n",
              "      <td>459.0000</td>\n",
              "      <td>467.150</td>\n",
              "      <td>477.1000</td>\n",
              "      <td>515.10</td>\n",
              "    </tr>\n",
              "  </tbody>\n",
              "</table>\n",
              "</div>"
            ],
            "text/plain": [
              "                count         mean          std      min        25%       50%  \\\n",
              "ano             222.0  2002.000000    10.701207  1984.00  1993.0000  2002.000   \n",
              "area            222.0  3259.409910  1690.075381   350.00  2000.0000  3040.000   \n",
              "produtividade   222.0  4697.263063   666.001670  3147.80  4223.1000  4679.450   \n",
              "temp_SEP        222.0    23.197748     1.870525    18.70    21.8250    23.000   \n",
              "temp_OCT        222.0    25.002703     1.612309    21.10    23.7000    24.700   \n",
              "temp_NOV        222.0    25.198198     1.008918    22.80    24.5000    25.100   \n",
              "temp_DEC        222.0    25.344144     0.941279    22.90    24.7000    25.300   \n",
              "temp_ANN        222.0    24.696847     0.985110    21.90    24.1250    24.600   \n",
              "ue_SEP          222.0    10.477928     1.296669     6.59     9.7175    10.310   \n",
              "ue_OCT          222.0    12.685450     1.233460     9.46    12.0200    12.730   \n",
              "ue_NOV          222.0    13.878243     1.347004    10.50    13.0000    13.670   \n",
              "ue_DEC          222.0    15.410586     1.063003    12.70    14.7700    15.500   \n",
              "ue_ANN          222.0    13.117117     0.925347    10.90    12.5000    13.100   \n",
              "ur_SEP          222.0    60.071171     9.987258    31.10    53.3250    59.900   \n",
              "ur_OCT          222.0    64.212613     8.167180    43.30    58.4750    65.800   \n",
              "ur_NOV          222.0    68.290541     7.014171    51.90    62.9000    68.800   \n",
              "ur_DEC          222.0    74.434685     6.305540    56.90    71.3000    76.050   \n",
              "ur_ANN          222.0    66.766667     5.638312    52.70    63.4000    66.500   \n",
              "vv_SEP          222.0     2.428378     0.458184     1.51     1.9825     2.520   \n",
              "vv_OCT          222.0     2.238694     0.412774     1.45     1.8200     2.350   \n",
              "vv_NOV          222.0     2.079054     0.396997     1.16     1.7125     2.160   \n",
              "vv_DEC          222.0     1.810676     0.359678     1.10     1.4625     1.910   \n",
              "vv_ANN          222.0     2.144595     0.375786     1.40     1.7000     2.300   \n",
              "tmax_SEP        222.0    36.216216     2.478488    29.70    34.5250    36.400   \n",
              "tmax_OCT        222.0    36.984234     2.510534    30.90    35.2500    37.000   \n",
              "tmax_NOV        222.0    35.945495     2.137502    31.00    34.2000    36.200   \n",
              "tmax_DEC        222.0    34.569369     2.092814    30.00    33.1000    34.300   \n",
              "tmax_ANN        222.0    35.947297     1.678845    31.70    34.9000    35.950   \n",
              "tmin_SEP        222.0    10.785135     2.801713     2.70     9.1000    11.400   \n",
              "tmin_OCT        222.0    13.272072     2.086269     8.70    12.0000    13.200   \n",
              "tmin_NOV        222.0    14.533784     1.865059     9.70    13.3250    14.700   \n",
              "tmin_DEC        222.0    16.410360     1.622113    12.00    15.3000    16.400   \n",
              "tmin_ANN        222.0    13.764865     1.348916    10.50    12.8250    13.700   \n",
              "umidsolos_SEP   222.0    49.486486     7.533172    39.00    44.0000    47.000   \n",
              "umidsolos_OCT   222.0    50.725225     7.867753    39.00    45.0000    48.000   \n",
              "umidsolos_NOV   222.0    52.216216     9.234409    40.00    45.0000    50.000   \n",
              "umidsolos_DEC   222.0    55.657658    11.085024    41.00    48.0000    52.000   \n",
              "umidsolos_ANN   222.0    52.041441     8.395156    41.30    45.8000    49.500   \n",
              "tamplitude_SEP  222.0    25.439189     2.901824    18.10    23.6000    25.400   \n",
              "tamplitude_OCT  222.0    23.713514     2.507202    17.40    22.3250    23.800   \n",
              "tamplitude_NOV  222.0    21.419369     2.857258    13.80    19.7000    21.400   \n",
              "tamplitude_DEC  222.0    18.168468     2.542756    11.30    16.5000    18.100   \n",
              "tamplitude_ANN  222.0    22.197748     1.750616    17.20    21.3000    22.300   \n",
              "Qo_SEP          222.0    33.238333     0.150725    33.00    33.0900    33.240   \n",
              "Qo_OCT          222.0    37.954459     0.060394    37.84    37.9000    37.955   \n",
              "Qo_NOV          222.0    41.066486     0.054981    40.97    41.0100    41.065   \n",
              "Qo_DEC          222.0    42.347793     0.100113    42.22    42.2500    42.345   \n",
              "Qo_ANN          222.0    38.652703     0.050040    38.60    38.6000    38.700   \n",
              "Prec_SEP        222.0    72.008108    46.439412     2.40    29.2500    65.850   \n",
              "Prec_OCT        222.0   105.321622    51.205358    31.20    58.5750   100.950   \n",
              "Prec_NOV        222.0   133.613514    60.492457    36.30    79.5750   125.100   \n",
              "Prec_DEC        222.0   183.809459    63.616841    57.30   141.6000   174.450   \n",
              "Prec_ANN        222.0   494.752703   121.511947   268.20   413.7000   510.300   \n",
              "Qg_SEP          222.0    18.484820     1.859488    13.19    17.4750    18.550   \n",
              "Qg_OCT          222.0    20.893378     1.463543    17.24    19.7725    20.820   \n",
              "Qg_NOV          222.0    22.785676     1.663715    17.11    21.7375    22.825   \n",
              "Qg_DEC          222.0    22.329820     1.612271    18.12    21.2300    22.280   \n",
              "Qg_ANN          222.0    21.124775     0.900009    18.10    20.8000    21.100   \n",
              "ETP_SEP         222.0    94.409009     7.732151    75.80    89.1000    93.550   \n",
              "ETP_OCT         222.0   116.181532     7.565603    97.90   110.3000   114.600   \n",
              "ETP_NOV         222.0   126.683784     5.039968   115.10   123.0750   126.400   \n",
              "ETP_DEC         222.0   131.405856     4.866248   118.60   128.3000   131.000   \n",
              "ETP_ANN         222.0   468.680180    17.973698   417.50   459.0000   467.150   \n",
              "\n",
              "                      75%      max  \n",
              "ano             2011.0000  2020.00  \n",
              "area            4200.0000  9340.00  \n",
              "produtividade   5085.0000  6705.90  \n",
              "temp_SEP          24.5000    28.00  \n",
              "temp_OCT          26.1000    29.20  \n",
              "temp_NOV          25.8000    27.70  \n",
              "temp_DEC          25.9750    27.70  \n",
              "temp_ANN          25.2000    27.20  \n",
              "ue_SEP            11.2900    14.28  \n",
              "ue_OCT            13.4300    15.62  \n",
              "ue_NOV            14.5750    17.40  \n",
              "ue_DEC            16.0500    17.52  \n",
              "ue_ANN            13.6000    15.90  \n",
              "ur_SEP            66.9000    80.60  \n",
              "ur_OCT            69.3000    79.60  \n",
              "ur_NOV            73.2750    83.90  \n",
              "ur_DEC            77.9000    85.80  \n",
              "ur_ANN            70.5000    81.60  \n",
              "vv_SEP             2.8000     3.27  \n",
              "vv_OCT             2.5300     3.31  \n",
              "vv_NOV             2.4100     2.74  \n",
              "vv_DEC             2.0875     2.91  \n",
              "vv_ANN             2.4000     2.80  \n",
              "tmax_SEP          37.8000    42.00  \n",
              "tmax_OCT          38.8000    43.40  \n",
              "tmax_NOV          37.3000    41.40  \n",
              "tmax_DEC          35.6750    40.40  \n",
              "tmax_ANN          36.9000    40.60  \n",
              "tmin_SEP          13.0000    16.50  \n",
              "tmin_OCT          14.6000    18.10  \n",
              "tmin_NOV          15.7000    19.10  \n",
              "tmin_DEC          17.3000    20.30  \n",
              "tmin_ANN          14.6000    17.20  \n",
              "umidsolos_SEP     55.0000    70.00  \n",
              "umidsolos_OCT     55.0000    77.00  \n",
              "umidsolos_NOV     55.0000    80.00  \n",
              "umidsolos_DEC     59.0000    89.00  \n",
              "umidsolos_ANN     54.6750    75.50  \n",
              "tamplitude_SEP    27.0750    33.50  \n",
              "tamplitude_OCT    25.4000    29.20  \n",
              "tamplitude_NOV    23.0750    28.30  \n",
              "tamplitude_DEC    19.9000    24.60  \n",
              "tamplitude_ANN    23.4000    26.50  \n",
              "Qo_SEP            33.3800    33.47  \n",
              "Qo_OCT            37.9900    38.07  \n",
              "Qo_NOV            41.1100    41.16  \n",
              "Qo_DEC            42.4500    42.48  \n",
              "Qo_ANN            38.7000    38.70  \n",
              "Prec_SEP         108.0750   194.10  \n",
              "Prec_OCT         135.4500   237.60  \n",
              "Prec_NOV         165.3000   318.90  \n",
              "Prec_DEC         227.7000   345.60  \n",
              "Prec_ANN         554.1000   925.20  \n",
              "Qg_SEP            19.7900    22.68  \n",
              "Qg_OCT            21.9300    24.88  \n",
              "Qg_NOV            23.8200    26.33  \n",
              "Qg_DEC            23.3000    25.99  \n",
              "Qg_ANN            21.5000    24.10  \n",
              "ETP_SEP           99.5000   114.80  \n",
              "ETP_OCT          121.5750   136.00  \n",
              "ETP_NOV          129.6750   139.40  \n",
              "ETP_DEC          134.5750   143.90  \n",
              "ETP_ANN          477.1000   515.10  "
            ]
          },
          "metadata": {},
          "execution_count": 116
        }
      ]
    },
    {
      "cell_type": "markdown",
      "metadata": {
        "id": "MBa3KwFa7Df2"
      },
      "source": [
        "##**4 - Análises** <a name=\"analise\"></a>"
      ]
    },
    {
      "cell_type": "markdown",
      "metadata": {
        "id": "PwpJ-n32BYSv"
      },
      "source": [
        "Os dados coletados são referentes a produção de amendoin de 6 cidades do interior de SP: Jaboticabal, Tupa, Herculandia, Pompeia, Iacri e Marilia, dos anos de 1984 a 2020."
      ]
    },
    {
      "cell_type": "code",
      "metadata": {
        "colab": {
          "base_uri": "https://localhost:8080/",
          "height": 121
        },
        "id": "94yWib7E62bU",
        "outputId": "a1fa7cb8-8100-4fd8-928b-0533f122e158"
      },
      "source": [
        "display(dados['Local'].unique())\n",
        "display(dados['ano'].unique())"
      ],
      "execution_count": 117,
      "outputs": [
        {
          "output_type": "display_data",
          "data": {
            "text/plain": [
              "array(['Jaboticabal', 'Tupa', 'Herculandia', 'Pompeia', 'Iacri',\n",
              "       'Marilia'], dtype=object)"
            ]
          },
          "metadata": {}
        },
        {
          "output_type": "display_data",
          "data": {
            "text/plain": [
              "array([1984, 1985, 1986, 1987, 1988, 1989, 1990, 1991, 1992, 1993, 1994,\n",
              "       1995, 1996, 1997, 1998, 1999, 2000, 2001, 2002, 2003, 2004, 2005,\n",
              "       2006, 2007, 2008, 2009, 2010, 2011, 2012, 2013, 2014, 2015, 2016,\n",
              "       2017, 2018, 2019, 2020])"
            ]
          },
          "metadata": {}
        }
      ]
    },
    {
      "cell_type": "markdown",
      "metadata": {
        "id": "59kWeTkOCUvu"
      },
      "source": [
        "Das localidades, Jabotical teve em média uma área de plantio maior e Marilia a menor."
      ]
    },
    {
      "cell_type": "code",
      "metadata": {
        "colab": {
          "base_uri": "https://localhost:8080/",
          "height": 296
        },
        "id": "K3BHi6-KEcbm",
        "outputId": "153a6256-cc9b-450a-b01d-34d6db38ae52"
      },
      "source": [
        "sns.boxplot(x='Local', y='area', data=dados, showmeans=True)"
      ],
      "execution_count": 118,
      "outputs": [
        {
          "output_type": "execute_result",
          "data": {
            "text/plain": [
              "<matplotlib.axes._subplots.AxesSubplot at 0x7f6f39f6ad90>"
            ]
          },
          "metadata": {},
          "execution_count": 118
        },
        {
          "output_type": "display_data",
          "data": {
            "image/png": "[encoded data removed]",
            "text/plain": [
              "<Figure size 432x288 with 1 Axes>"
            ]
          },
          "metadata": {
            "needs_background": "light"
          }
        }
      ]
    },
    {
      "cell_type": "markdown",
      "metadata": {
        "id": "6IV6Ha-_Htlo"
      },
      "source": [
        "Já na produtividade Marilia se destacou bastante das demais, que ficaram com médias próximas, e Iacri foi a que teve uma maior variação."
      ]
    },
    {
      "cell_type": "code",
      "metadata": {
        "colab": {
          "base_uri": "https://localhost:8080/",
          "height": 296
        },
        "id": "Mt9vbfW1Gfl7",
        "outputId": "8c063af6-189b-4ad8-e96c-ef81085cc57a"
      },
      "source": [
        "sns.boxplot(x='Local', y='produtividade', data=dados, showmeans=True)"
      ],
      "execution_count": 119,
      "outputs": [
        {
          "output_type": "execute_result",
          "data": {
            "text/plain": [
              "<matplotlib.axes._subplots.AxesSubplot at 0x7f6f3c2af590>"
            ]
          },
          "metadata": {},
          "execution_count": 119
        },
        {
          "output_type": "display_data",
          "data": {
            "image/png": "[encoded data removed]",
            "text/plain": [
              "<Figure size 432x288 with 1 Axes>"
            ]
          },
          "metadata": {
            "needs_background": "light"
          }
        }
      ]
    },
    {
      "cell_type": "markdown",
      "metadata": {
        "id": "txf8EdNiJvgL"
      },
      "source": [
        "A produtividade parece ter um variação maior quando se tem uma area de plantio menor, e conforme a área aumenta começa a haver uma diminuição dessa variação, ficando entre 4 e 5 mil ton, que é também próxima a média geral da produtividade. Mas no geral não parece haver correlação entre a área e produtividade."
      ]
    },
    {
      "cell_type": "code",
      "metadata": {
        "colab": {
          "base_uri": "https://localhost:8080/",
          "height": 296
        },
        "id": "tUcj23IGJn5-",
        "outputId": "80348afb-0440-4d59-c5fb-99f2de2bed6d"
      },
      "source": [
        "sns.scatterplot(x='area', y='produtividade', data=dados)"
      ],
      "execution_count": 120,
      "outputs": [
        {
          "output_type": "execute_result",
          "data": {
            "text/plain": [
              "<matplotlib.axes._subplots.AxesSubplot at 0x7f6f3cb7a290>"
            ]
          },
          "metadata": {},
          "execution_count": 120
        },
        {
          "output_type": "display_data",
          "data": {
            "image/png": "[encoded data removed]",
            "text/plain": [
              "<Figure size 432x288 with 1 Axes>"
            ]
          },
          "metadata": {
            "needs_background": "light"
          }
        }
      ]
    },
    {
      "cell_type": "markdown",
      "metadata": {
        "id": "oF5ZqfmXMkur"
      },
      "source": [
        "O ano avaliado também não tem correlação com a produtividade medida. "
      ]
    },
    {
      "cell_type": "code",
      "metadata": {
        "colab": {
          "base_uri": "https://localhost:8080/",
          "height": 296
        },
        "id": "cWh3lI_aLjHT",
        "outputId": "5549e541-f98b-49e1-c624-06fe3f1e4ee6"
      },
      "source": [
        "sns.scatterplot(x='ano', y='produtividade', data=dados)"
      ],
      "execution_count": 121,
      "outputs": [
        {
          "output_type": "execute_result",
          "data": {
            "text/plain": [
              "<matplotlib.axes._subplots.AxesSubplot at 0x7f6f3f92ab10>"
            ]
          },
          "metadata": {},
          "execution_count": 121
        },
        {
          "output_type": "display_data",
          "data": {
            "image/png": "[encoded data removed]",
            "text/plain": [
              "<Figure size 432x288 with 1 Axes>"
            ]
          },
          "metadata": {
            "needs_background": "light"
          }
        }
      ]
    },
    {
      "cell_type": "markdown",
      "metadata": {
        "id": "RmgmAqA2NNiP"
      },
      "source": [
        "E a presença de Outliers na variável alvo da amostra é baixa:"
      ]
    },
    {
      "cell_type": "code",
      "metadata": {
        "colab": {
          "base_uri": "https://localhost:8080/",
          "height": 265
        },
        "id": "Zetk0Qqsua5n",
        "outputId": "f89d04b6-2b3f-43ce-efc7-3b81bdbf5341"
      },
      "source": [
        "dados['produtividade'].plot(kind = 'box');"
      ],
      "execution_count": 122,
      "outputs": [
        {
          "output_type": "display_data",
          "data": {
            "image/png": "[encoded data removed]",
            "text/plain": [
              "<Figure size 432x288 with 1 Axes>"
            ]
          },
          "metadata": {
            "needs_background": "light"
          }
        }
      ]
    },
    {
      "cell_type": "markdown",
      "metadata": {
        "id": "MEb08AkINi2w"
      },
      "source": [
        "Analisando a Correlação apenas pelas features consolidadas: "
      ]
    },
    {
      "cell_type": "code",
      "metadata": {
        "colab": {
          "base_uri": "https://localhost:8080/",
          "height": 590
        },
        "id": "5h5w08rjPeKV",
        "outputId": "caf61dd6-ec07-418e-bbf5-72ad0074fe19"
      },
      "source": [
        "fig, ax = plt.subplots()\n",
        "fig.set_size_inches(11.7, 8.27)\n",
        "sns.heatmap(dados[[\"produtividade\"\n",
        ",\"temp_ANN\"\n",
        ",\"ue_ANN\"\n",
        ",\"ur_ANN\"\n",
        ",\"vv_ANN\"\n",
        ",\"tmax_ANN\"\n",
        ",\"tmin_ANN\"\n",
        ",\"umidsolos_ANN\"\n",
        ",\"tamplitude_ANN\"\n",
        ",\"Qo_ANN\"\n",
        ",\"Prec_ANN\"\n",
        ",\"Qg_ANN\"\n",
        ",\"ETP_ANN\"]].corr(), annot = True, ax = ax)"
      ],
      "execution_count": 123,
      "outputs": [
        {
          "output_type": "execute_result",
          "data": {
            "text/plain": [
              "<matplotlib.axes._subplots.AxesSubplot at 0x7f6f3a8e7f90>"
            ]
          },
          "metadata": {},
          "execution_count": 123
        },
        {
          "output_type": "display_data",
          "data": {
            "image/png": "[encoded data removed]",
            "text/plain": [
              "<Figure size 842.4x595.44 with 2 Axes>"
            ]
          },
          "metadata": {
            "needs_background": "light"
          }
        }
      ]
    },
    {
      "cell_type": "markdown",
      "metadata": {
        "id": "mqg84W3bZ_Kj"
      },
      "source": [
        "Fica claro na tabela de correlação a relação direta entre os dados de ETP (Evapotranspiração Potêncial) e Temperatura, visto que o cálculo do primeiro é realizado em função do segundo, então optei por remover os dados de ETP.\n",
        "\n",
        "E também como a intenção é a construção de um modelo para previsões e de forma independente a localidade, também serão removidas as features de Local, ano e area."
      ]
    },
    {
      "cell_type": "code",
      "metadata": {
        "colab": {
          "base_uri": "https://localhost:8080/",
          "height": 226
        },
        "id": "XKoHfc2ebOtv",
        "outputId": "79399881-4e90-4f33-97bb-2c6da347ee42"
      },
      "source": [
        "dados = dados.loc[:,'produtividade':'Qg_ANN']\n",
        "dados.head()"
      ],
      "execution_count": 124,
      "outputs": [
        {
          "output_type": "execute_result",
          "data": {
            "text/html": [
              "<div>\n",
              "<style scoped>\n",
              "    .dataframe tbody tr th:only-of-type {\n",
              "        vertical-align: middle;\n",
              "    }\n",
              "\n",
              "    .dataframe tbody tr th {\n",
              "        vertical-align: top;\n",
              "    }\n",
              "\n",
              "    .dataframe thead th {\n",
              "        text-align: right;\n",
              "    }\n",
              "</style>\n",
              "<table border=\"1\" class=\"dataframe\">\n",
              "  <thead>\n",
              "    <tr style=\"text-align: right;\">\n",
              "      <th></th>\n",
              "      <th>produtividade</th>\n",
              "      <th>temp_SEP</th>\n",
              "      <th>temp_OCT</th>\n",
              "      <th>temp_NOV</th>\n",
              "      <th>temp_DEC</th>\n",
              "      <th>temp_ANN</th>\n",
              "      <th>ue_SEP</th>\n",
              "      <th>ue_OCT</th>\n",
              "      <th>ue_NOV</th>\n",
              "      <th>ue_DEC</th>\n",
              "      <th>ue_ANN</th>\n",
              "      <th>ur_SEP</th>\n",
              "      <th>ur_OCT</th>\n",
              "      <th>ur_NOV</th>\n",
              "      <th>ur_DEC</th>\n",
              "      <th>ur_ANN</th>\n",
              "      <th>vv_SEP</th>\n",
              "      <th>vv_OCT</th>\n",
              "      <th>vv_NOV</th>\n",
              "      <th>vv_DEC</th>\n",
              "      <th>vv_ANN</th>\n",
              "      <th>tmax_SEP</th>\n",
              "      <th>tmax_OCT</th>\n",
              "      <th>tmax_NOV</th>\n",
              "      <th>tmax_DEC</th>\n",
              "      <th>tmax_ANN</th>\n",
              "      <th>tmin_SEP</th>\n",
              "      <th>tmin_OCT</th>\n",
              "      <th>tmin_NOV</th>\n",
              "      <th>tmin_DEC</th>\n",
              "      <th>tmin_ANN</th>\n",
              "      <th>umidsolos_SEP</th>\n",
              "      <th>umidsolos_OCT</th>\n",
              "      <th>umidsolos_NOV</th>\n",
              "      <th>umidsolos_DEC</th>\n",
              "      <th>umidsolos_ANN</th>\n",
              "      <th>tamplitude_SEP</th>\n",
              "      <th>tamplitude_OCT</th>\n",
              "      <th>tamplitude_NOV</th>\n",
              "      <th>tamplitude_DEC</th>\n",
              "      <th>tamplitude_ANN</th>\n",
              "      <th>Qo_SEP</th>\n",
              "      <th>Qo_OCT</th>\n",
              "      <th>Qo_NOV</th>\n",
              "      <th>Qo_DEC</th>\n",
              "      <th>Qo_ANN</th>\n",
              "      <th>Prec_SEP</th>\n",
              "      <th>Prec_OCT</th>\n",
              "      <th>Prec_NOV</th>\n",
              "      <th>Prec_DEC</th>\n",
              "      <th>Prec_ANN</th>\n",
              "      <th>Qg_SEP</th>\n",
              "      <th>Qg_OCT</th>\n",
              "      <th>Qg_NOV</th>\n",
              "      <th>Qg_DEC</th>\n",
              "      <th>Qg_ANN</th>\n",
              "    </tr>\n",
              "  </thead>\n",
              "  <tbody>\n",
              "    <tr>\n",
              "      <th>0</th>\n",
              "      <td>4561.3</td>\n",
              "      <td>22.1</td>\n",
              "      <td>26.1</td>\n",
              "      <td>25.6</td>\n",
              "      <td>23.6</td>\n",
              "      <td>24.4</td>\n",
              "      <td>9.89</td>\n",
              "      <td>12.27</td>\n",
              "      <td>13.49</td>\n",
              "      <td>15.81</td>\n",
              "      <td>12.9</td>\n",
              "      <td>59.9</td>\n",
              "      <td>58.9</td>\n",
              "      <td>65.5</td>\n",
              "      <td>82.5</td>\n",
              "      <td>66.7</td>\n",
              "      <td>2.52</td>\n",
              "      <td>2.53</td>\n",
              "      <td>2.64</td>\n",
              "      <td>2.11</td>\n",
              "      <td>2.5</td>\n",
              "      <td>34.8</td>\n",
              "      <td>37.4</td>\n",
              "      <td>38.5</td>\n",
              "      <td>31.0</td>\n",
              "      <td>35.4</td>\n",
              "      <td>9.4</td>\n",
              "      <td>11.4</td>\n",
              "      <td>15.4</td>\n",
              "      <td>16.4</td>\n",
              "      <td>13.2</td>\n",
              "      <td>65.0</td>\n",
              "      <td>64.0</td>\n",
              "      <td>66.0</td>\n",
              "      <td>82.0</td>\n",
              "      <td>69.3</td>\n",
              "      <td>25.4</td>\n",
              "      <td>26.0</td>\n",
              "      <td>23.1</td>\n",
              "      <td>14.6</td>\n",
              "      <td>22.3</td>\n",
              "      <td>33.41</td>\n",
              "      <td>38.02</td>\n",
              "      <td>41.02</td>\n",
              "      <td>42.24</td>\n",
              "      <td>38.7</td>\n",
              "      <td>95.7</td>\n",
              "      <td>66.3</td>\n",
              "      <td>195.3</td>\n",
              "      <td>259.5</td>\n",
              "      <td>616.8</td>\n",
              "      <td>18.93</td>\n",
              "      <td>23.22</td>\n",
              "      <td>23.12</td>\n",
              "      <td>20.20</td>\n",
              "      <td>21.4</td>\n",
              "    </tr>\n",
              "    <tr>\n",
              "      <th>1</th>\n",
              "      <td>4535.3</td>\n",
              "      <td>25.7</td>\n",
              "      <td>27.5</td>\n",
              "      <td>24.7</td>\n",
              "      <td>25.0</td>\n",
              "      <td>25.7</td>\n",
              "      <td>8.61</td>\n",
              "      <td>10.07</td>\n",
              "      <td>13.43</td>\n",
              "      <td>14.83</td>\n",
              "      <td>11.7</td>\n",
              "      <td>43.8</td>\n",
              "      <td>45.4</td>\n",
              "      <td>67.9</td>\n",
              "      <td>72.8</td>\n",
              "      <td>57.5</td>\n",
              "      <td>2.95</td>\n",
              "      <td>2.59</td>\n",
              "      <td>2.30</td>\n",
              "      <td>2.12</td>\n",
              "      <td>2.5</td>\n",
              "      <td>38.8</td>\n",
              "      <td>39.6</td>\n",
              "      <td>38.1</td>\n",
              "      <td>35.5</td>\n",
              "      <td>38.0</td>\n",
              "      <td>14.8</td>\n",
              "      <td>14.5</td>\n",
              "      <td>14.6</td>\n",
              "      <td>16.1</td>\n",
              "      <td>15.0</td>\n",
              "      <td>59.0</td>\n",
              "      <td>59.0</td>\n",
              "      <td>71.0</td>\n",
              "      <td>72.0</td>\n",
              "      <td>65.3</td>\n",
              "      <td>24.0</td>\n",
              "      <td>25.1</td>\n",
              "      <td>23.5</td>\n",
              "      <td>19.4</td>\n",
              "      <td>23.0</td>\n",
              "      <td>33.37</td>\n",
              "      <td>37.98</td>\n",
              "      <td>41.00</td>\n",
              "      <td>42.23</td>\n",
              "      <td>38.6</td>\n",
              "      <td>18.6</td>\n",
              "      <td>63.3</td>\n",
              "      <td>213.3</td>\n",
              "      <td>189.6</td>\n",
              "      <td>484.8</td>\n",
              "      <td>19.96</td>\n",
              "      <td>24.18</td>\n",
              "      <td>25.32</td>\n",
              "      <td>25.15</td>\n",
              "      <td>23.7</td>\n",
              "    </tr>\n",
              "    <tr>\n",
              "      <th>2</th>\n",
              "      <td>4500.9</td>\n",
              "      <td>22.9</td>\n",
              "      <td>25.3</td>\n",
              "      <td>26.1</td>\n",
              "      <td>23.6</td>\n",
              "      <td>24.5</td>\n",
              "      <td>9.89</td>\n",
              "      <td>10.44</td>\n",
              "      <td>13.12</td>\n",
              "      <td>15.93</td>\n",
              "      <td>12.3</td>\n",
              "      <td>57.9</td>\n",
              "      <td>53.6</td>\n",
              "      <td>61.9</td>\n",
              "      <td>83.2</td>\n",
              "      <td>64.2</td>\n",
              "      <td>2.92</td>\n",
              "      <td>2.83</td>\n",
              "      <td>2.58</td>\n",
              "      <td>2.13</td>\n",
              "      <td>2.6</td>\n",
              "      <td>36.5</td>\n",
              "      <td>39.2</td>\n",
              "      <td>37.5</td>\n",
              "      <td>31.3</td>\n",
              "      <td>36.1</td>\n",
              "      <td>11.3</td>\n",
              "      <td>10.0</td>\n",
              "      <td>11.8</td>\n",
              "      <td>17.8</td>\n",
              "      <td>12.7</td>\n",
              "      <td>64.0</td>\n",
              "      <td>62.0</td>\n",
              "      <td>65.0</td>\n",
              "      <td>80.0</td>\n",
              "      <td>67.8</td>\n",
              "      <td>25.2</td>\n",
              "      <td>29.2</td>\n",
              "      <td>25.7</td>\n",
              "      <td>13.5</td>\n",
              "      <td>23.4</td>\n",
              "      <td>33.32</td>\n",
              "      <td>37.96</td>\n",
              "      <td>40.99</td>\n",
              "      <td>42.23</td>\n",
              "      <td>38.6</td>\n",
              "      <td>23.1</td>\n",
              "      <td>75.6</td>\n",
              "      <td>136.8</td>\n",
              "      <td>345.6</td>\n",
              "      <td>581.1</td>\n",
              "      <td>18.77</td>\n",
              "      <td>22.70</td>\n",
              "      <td>23.52</td>\n",
              "      <td>19.84</td>\n",
              "      <td>21.2</td>\n",
              "    </tr>\n",
              "    <tr>\n",
              "      <th>3</th>\n",
              "      <td>4473.5</td>\n",
              "      <td>24.4</td>\n",
              "      <td>25.4</td>\n",
              "      <td>25.1</td>\n",
              "      <td>24.1</td>\n",
              "      <td>24.8</td>\n",
              "      <td>10.68</td>\n",
              "      <td>12.82</td>\n",
              "      <td>14.47</td>\n",
              "      <td>15.87</td>\n",
              "      <td>13.5</td>\n",
              "      <td>57.1</td>\n",
              "      <td>63.4</td>\n",
              "      <td>70.9</td>\n",
              "      <td>80.9</td>\n",
              "      <td>68.1</td>\n",
              "      <td>3.26</td>\n",
              "      <td>2.59</td>\n",
              "      <td>2.47</td>\n",
              "      <td>2.05</td>\n",
              "      <td>2.6</td>\n",
              "      <td>37.6</td>\n",
              "      <td>39.2</td>\n",
              "      <td>37.3</td>\n",
              "      <td>31.4</td>\n",
              "      <td>36.4</td>\n",
              "      <td>12.0</td>\n",
              "      <td>13.2</td>\n",
              "      <td>16.3</td>\n",
              "      <td>15.9</td>\n",
              "      <td>14.4</td>\n",
              "      <td>61.0</td>\n",
              "      <td>65.0</td>\n",
              "      <td>71.0</td>\n",
              "      <td>77.0</td>\n",
              "      <td>68.5</td>\n",
              "      <td>25.6</td>\n",
              "      <td>26.0</td>\n",
              "      <td>20.9</td>\n",
              "      <td>15.6</td>\n",
              "      <td>22.0</td>\n",
              "      <td>33.29</td>\n",
              "      <td>37.93</td>\n",
              "      <td>40.98</td>\n",
              "      <td>42.23</td>\n",
              "      <td>38.6</td>\n",
              "      <td>78.6</td>\n",
              "      <td>101.4</td>\n",
              "      <td>205.8</td>\n",
              "      <td>191.1</td>\n",
              "      <td>576.9</td>\n",
              "      <td>18.14</td>\n",
              "      <td>21.29</td>\n",
              "      <td>24.25</td>\n",
              "      <td>23.14</td>\n",
              "      <td>21.7</td>\n",
              "    </tr>\n",
              "    <tr>\n",
              "      <th>4</th>\n",
              "      <td>4884.2</td>\n",
              "      <td>26.3</td>\n",
              "      <td>24.8</td>\n",
              "      <td>23.7</td>\n",
              "      <td>24.9</td>\n",
              "      <td>24.9</td>\n",
              "      <td>8.30</td>\n",
              "      <td>12.45</td>\n",
              "      <td>13.43</td>\n",
              "      <td>14.95</td>\n",
              "      <td>12.3</td>\n",
              "      <td>40.5</td>\n",
              "      <td>63.4</td>\n",
              "      <td>71.5</td>\n",
              "      <td>74.2</td>\n",
              "      <td>62.4</td>\n",
              "      <td>3.18</td>\n",
              "      <td>2.73</td>\n",
              "      <td>2.74</td>\n",
              "      <td>1.99</td>\n",
              "      <td>2.7</td>\n",
              "      <td>40.4</td>\n",
              "      <td>37.1</td>\n",
              "      <td>33.7</td>\n",
              "      <td>35.4</td>\n",
              "      <td>36.7</td>\n",
              "      <td>14.3</td>\n",
              "      <td>14.4</td>\n",
              "      <td>12.3</td>\n",
              "      <td>16.9</td>\n",
              "      <td>14.5</td>\n",
              "      <td>59.0</td>\n",
              "      <td>64.0</td>\n",
              "      <td>70.0</td>\n",
              "      <td>71.0</td>\n",
              "      <td>66.0</td>\n",
              "      <td>26.1</td>\n",
              "      <td>22.7</td>\n",
              "      <td>21.4</td>\n",
              "      <td>18.5</td>\n",
              "      <td>22.2</td>\n",
              "      <td>33.43</td>\n",
              "      <td>38.04</td>\n",
              "      <td>41.04</td>\n",
              "      <td>42.25</td>\n",
              "      <td>38.7</td>\n",
              "      <td>11.1</td>\n",
              "      <td>170.7</td>\n",
              "      <td>113.1</td>\n",
              "      <td>201.0</td>\n",
              "      <td>495.9</td>\n",
              "      <td>19.21</td>\n",
              "      <td>17.56</td>\n",
              "      <td>23.87</td>\n",
              "      <td>23.48</td>\n",
              "      <td>21.0</td>\n",
              "    </tr>\n",
              "  </tbody>\n",
              "</table>\n",
              "</div>"
            ],
            "text/plain": [
              "   produtividade  temp_SEP  temp_OCT  temp_NOV  temp_DEC  temp_ANN  ue_SEP  \\\n",
              "0         4561.3      22.1      26.1      25.6      23.6      24.4    9.89   \n",
              "1         4535.3      25.7      27.5      24.7      25.0      25.7    8.61   \n",
              "2         4500.9      22.9      25.3      26.1      23.6      24.5    9.89   \n",
              "3         4473.5      24.4      25.4      25.1      24.1      24.8   10.68   \n",
              "4         4884.2      26.3      24.8      23.7      24.9      24.9    8.30   \n",
              "\n",
              "   ue_OCT  ue_NOV  ue_DEC  ue_ANN  ur_SEP  ur_OCT  ur_NOV  ur_DEC  ur_ANN  \\\n",
              "0   12.27   13.49   15.81    12.9    59.9    58.9    65.5    82.5    66.7   \n",
              "1   10.07   13.43   14.83    11.7    43.8    45.4    67.9    72.8    57.5   \n",
              "2   10.44   13.12   15.93    12.3    57.9    53.6    61.9    83.2    64.2   \n",
              "3   12.82   14.47   15.87    13.5    57.1    63.4    70.9    80.9    68.1   \n",
              "4   12.45   13.43   14.95    12.3    40.5    63.4    71.5    74.2    62.4   \n",
              "\n",
              "   vv_SEP  vv_OCT  vv_NOV  vv_DEC  vv_ANN  tmax_SEP  tmax_OCT  tmax_NOV  \\\n",
              "0    2.52    2.53    2.64    2.11     2.5      34.8      37.4      38.5   \n",
              "1    2.95    2.59    2.30    2.12     2.5      38.8      39.6      38.1   \n",
              "2    2.92    2.83    2.58    2.13     2.6      36.5      39.2      37.5   \n",
              "3    3.26    2.59    2.47    2.05     2.6      37.6      39.2      37.3   \n",
              "4    3.18    2.73    2.74    1.99     2.7      40.4      37.1      33.7   \n",
              "\n",
              "   tmax_DEC  tmax_ANN  tmin_SEP  tmin_OCT  tmin_NOV  tmin_DEC  tmin_ANN  \\\n",
              "0      31.0      35.4       9.4      11.4      15.4      16.4      13.2   \n",
              "1      35.5      38.0      14.8      14.5      14.6      16.1      15.0   \n",
              "2      31.3      36.1      11.3      10.0      11.8      17.8      12.7   \n",
              "3      31.4      36.4      12.0      13.2      16.3      15.9      14.4   \n",
              "4      35.4      36.7      14.3      14.4      12.3      16.9      14.5   \n",
              "\n",
              "   umidsolos_SEP  umidsolos_OCT  umidsolos_NOV  umidsolos_DEC  umidsolos_ANN  \\\n",
              "0           65.0           64.0           66.0           82.0           69.3   \n",
              "1           59.0           59.0           71.0           72.0           65.3   \n",
              "2           64.0           62.0           65.0           80.0           67.8   \n",
              "3           61.0           65.0           71.0           77.0           68.5   \n",
              "4           59.0           64.0           70.0           71.0           66.0   \n",
              "\n",
              "   tamplitude_SEP  tamplitude_OCT  tamplitude_NOV  tamplitude_DEC  \\\n",
              "0            25.4            26.0            23.1            14.6   \n",
              "1            24.0            25.1            23.5            19.4   \n",
              "2            25.2            29.2            25.7            13.5   \n",
              "3            25.6            26.0            20.9            15.6   \n",
              "4            26.1            22.7            21.4            18.5   \n",
              "\n",
              "   tamplitude_ANN  Qo_SEP  Qo_OCT  Qo_NOV  Qo_DEC  Qo_ANN  Prec_SEP  Prec_OCT  \\\n",
              "0            22.3   33.41   38.02   41.02   42.24    38.7      95.7      66.3   \n",
              "1            23.0   33.37   37.98   41.00   42.23    38.6      18.6      63.3   \n",
              "2            23.4   33.32   37.96   40.99   42.23    38.6      23.1      75.6   \n",
              "3            22.0   33.29   37.93   40.98   42.23    38.6      78.6     101.4   \n",
              "4            22.2   33.43   38.04   41.04   42.25    38.7      11.1     170.7   \n",
              "\n",
              "   Prec_NOV  Prec_DEC  Prec_ANN  Qg_SEP  Qg_OCT  Qg_NOV  Qg_DEC  Qg_ANN  \n",
              "0     195.3     259.5     616.8   18.93   23.22   23.12   20.20    21.4  \n",
              "1     213.3     189.6     484.8   19.96   24.18   25.32   25.15    23.7  \n",
              "2     136.8     345.6     581.1   18.77   22.70   23.52   19.84    21.2  \n",
              "3     205.8     191.1     576.9   18.14   21.29   24.25   23.14    21.7  \n",
              "4     113.1     201.0     495.9   19.21   17.56   23.87   23.48    21.0  "
            ]
          },
          "metadata": {},
          "execution_count": 124
        }
      ]
    },
    {
      "cell_type": "markdown",
      "metadata": {
        "id": "I_gnA_V0BfbH"
      },
      "source": [
        "##**5 - Modelagem** <a name=\"modelagem\"></a>"
      ]
    },
    {
      "cell_type": "markdown",
      "metadata": {
        "id": "FR3p2PJ87GI4"
      },
      "source": [
        "###**5.1 - Funções** <a name=\"funcoes\"></a>"
      ]
    },
    {
      "cell_type": "markdown",
      "metadata": {
        "id": "_vcWreE_OOLH"
      },
      "source": [
        "No tratamento dos dados vou aplicar 3 técnicas diferentes e avaliar nos modelos qual irá trazer melhores resultados:\n",
        "* Padronização (Standard)\n",
        "* Transformação pelos Quantis (Quantile)\n",
        "* Normalização (Normalizer)"
      ]
    },
    {
      "cell_type": "code",
      "metadata": {
        "id": "jF65MFBWXdit"
      },
      "source": [
        "#Tratamento dos Dados\n",
        "lista_transf = ['Standard', 'Quantile', 'Normalizer']\n",
        "\n",
        "def transformacao(dadosX):\n",
        "\n",
        "  dadosTX = []\n",
        "  #Standard\n",
        "  escalaS = StandardScaler().fit(dadosX)\n",
        "  transfX = escalaS.transform(dadosX)\n",
        "  df = pd.DataFrame(transfX, columns=dadosX.columns) #Transformando o retorno de numpy.ndarray para data frame\n",
        "  dadosTX.append(df)\n",
        "\n",
        "  #Quantile\n",
        "  escalaQ = QuantileTransformer().fit(dadosX)\n",
        "  transfX = escalaQ.transform(dadosX)\n",
        "  df = pd.DataFrame(transfX, columns=dadosX.columns)\n",
        "  dadosTX.append(df) \n",
        "\n",
        "  #Normalizer\n",
        "  escalaN = Normalizer().fit(dadosX)\n",
        "  transfX = escalaN.transform(dadosX)\n",
        "  df = pd.DataFrame(transfX, columns=dadosX.columns)\n",
        "  dadosTX.append(df)\n",
        "\n",
        "  return dadosTX"
      ],
      "execution_count": 125,
      "outputs": []
    },
    {
      "cell_type": "markdown",
      "metadata": {
        "id": "m6YXssuxZ_-t"
      },
      "source": [
        "Para validação dos modelos vou utilizar a validação cruzada e retornar 3 medidas diferentes: \n",
        "* R Quadrado (R2)\n",
        "* Erro Quadrático Médio (EQM)\n",
        "* Erro Médio Absoluto (EMA)"
      ]
    },
    {
      "cell_type": "code",
      "metadata": {
        "id": "5REGOPq5wj8r"
      },
      "source": [
        "#Teste de Modelos\n",
        "def CompareML_kfold(treinoX, treinoy, lista_de_modelos, nome_dos_modelos, validacao):  \n",
        "  lista_medidas = ['r2','neg_mean_squared_error', 'neg_mean_absolute_error']\n",
        "  nome_medidas = ['R2','EQM','EMA']\n",
        "\n",
        "  resultados0 = {}\n",
        "  \n",
        "  for i in range(len(lista_de_modelos)):\n",
        "    modelo = lista_de_modelos[i]\n",
        "\n",
        "    testes = cross_validate(modelo, treinoX, treinoy, cv=validacao, scoring=lista_medidas)\n",
        "    \n",
        "    r2  = testes['test_r2'].mean()\n",
        "    eqm = testes['test_neg_mean_squared_error'].mean()\n",
        "    ema = testes['test_neg_mean_absolute_error'].mean()\n",
        "\n",
        "    resultados0[nome_dos_modelos[i]] = [r2, eqm, ema]\n",
        "  resultados = pd.DataFrame(resultados0, index = nome_medidas).T\n",
        "\n",
        "  return resultados"
      ],
      "execution_count": 126,
      "outputs": []
    },
    {
      "cell_type": "markdown",
      "metadata": {
        "id": "R5tTPq5PtXb2"
      },
      "source": [
        "Dado a quantidade de features presente na base é importante verificar se há um subconjunto de variáveis que possa ser treinado um modelo que ofereça um resultado melhor ou pelo menos no mesmo patamar do que se utilizarmos o conjunto completo das features.\n",
        "Para fazer essa avaliação criei a função abaixo que recebe um modelo, a base completa de testes e a lista das features na ordem específica que se deseja verificar, a função roda diversas simulações incrementando uma variável por vez nos testes e retorna os resultados obtidos para cada subconjunto. "
      ]
    },
    {
      "cell_type": "code",
      "metadata": {
        "id": "FOyLh5jE8nrJ"
      },
      "source": [
        "#Seleção de Features\n",
        "\n",
        "def SelectFeatures(modelo, dadosX, dadosy, validacaoS, features):\n",
        "  i = 0\n",
        "  resultados = pd.DataFrame(columns=['Qtd','Performance'])\n",
        "  for n in np.arange(2,features.count()+1):\n",
        "    featuresS = features.iloc[0:n].index.tolist()\n",
        "    dadosSX = dadosX[featuresS]  \n",
        "    testes = cross_validate(modelo, dadosSX, dadosy, cv=validacaoS, scoring='r2')\n",
        "    r2 = testes['test_score'].mean()\n",
        "    resultados.loc[i] = [n, r2]\n",
        "    i += 1\n",
        "  return resultados"
      ],
      "execution_count": 127,
      "outputs": []
    },
    {
      "cell_type": "markdown",
      "metadata": {
        "id": "fdwoQxJ2zAkc"
      },
      "source": [
        "Como passo final após as seleções de modelo e conjunto de features aplicarei um técnica de hipertunagem de parâmetros nos modelos para otimização e tentar melhorar o resultado obtido.\n",
        "A função abaixo irá facilitar essa verificação, onde recebe uma lista de modelos e uma lista de parâmetros com um range variações que serão testados utilizando a função GridSearchCV da biblioteca Scikit learn.\n"
      ]
    },
    {
      "cell_type": "code",
      "metadata": {
        "id": "gpj3kwGZCD9M"
      },
      "source": [
        "#Tunagem de Hiperparâmetros \n",
        "def Tunagem(modelo, treino, targets, parametros, validacao, score):    \n",
        "    search = GridSearchCV(modelo, param_grid = parametros,\n",
        "                                  scoring = score, cv = validacao, \n",
        "                                  verbose = 1, n_jobs = -1)\n",
        "    search.fit(treino, targets) \n",
        "    bestModel = search.best_estimator_\n",
        "    bestScore = search.best_score_\n",
        "    bestParam = search.best_params_\n",
        "\n",
        "    return {\n",
        "            'bestModel': bestModel,\n",
        "            'bestScore': bestScore,\n",
        "            'bestParam': bestParam\n",
        "    }"
      ],
      "execution_count": 128,
      "outputs": []
    },
    {
      "cell_type": "markdown",
      "metadata": {
        "id": "uF9qse2LDpnK"
      },
      "source": [
        "###**5.2 - Modelos** <a name=\"modelos\"></a>\n",
        "\n",
        "Para os testes serão utilizados 9 modelos de regressão, sendo 4\n",
        "Modelos lineares: \n",
        "* LinearRegression\n",
        "* LassoLars\n",
        "* Ridge\n",
        "* BayesianRidge\n",
        "\n",
        "e 5 Modelos Não Lineares: \n",
        "* KNeighborsRegressor \n",
        "* DecisionTreeRegressor \n",
        "* RandomForestRegressor \n",
        "* GradientBoostingRegressor \n",
        "* LGBMRegressor"
      ]
    },
    {
      "cell_type": "code",
      "metadata": {
        "id": "aNikNxUGTM1v"
      },
      "source": [
        "#Declaração dos modelos que serão utilizados nos testes\n",
        "\n",
        "lista_de_modelos = [\n",
        "                      LinearRegression(),\n",
        "                      LassoLars(),\n",
        "                      Ridge(),\n",
        "                      BayesianRidge(),\n",
        "                      KNeighborsRegressor(n_neighbors = 5),\n",
        "                      DecisionTreeRegressor(max_depth = 7, min_samples_split=3),\n",
        "                      RandomForestRegressor(),\n",
        "                      GradientBoostingRegressor(),\n",
        "                      LGBMRegressor()\n",
        "                  ]\n",
        "\n",
        "nome_dos_modelos = [\n",
        "                      'LinearReg',\n",
        "                      'LassoLars',\n",
        "                      'Ridge',\n",
        "                      'BayesianRidge',\n",
        "                      'Knn',\n",
        "                      'DTree',                    \n",
        "                      'RanFor',\n",
        "                      'GradBoost',\n",
        "                      'LGBM'\n",
        "                  ]"
      ],
      "execution_count": 129,
      "outputs": []
    },
    {
      "cell_type": "markdown",
      "metadata": {
        "id": "KfwYSwIMpak1"
      },
      "source": [
        "###**5.3 - Teste Inicial** <a name=\"teste\"></a>\n",
        "\n",
        "Inicialmente rodo um teste com todas as features com as 3 transformações citadas"
      ]
    },
    {
      "cell_type": "code",
      "metadata": {
        "colab": {
          "base_uri": "https://localhost:8080/"
        },
        "id": "S70FcFwm_gOV",
        "outputId": "7644b7a5-e607-4c96-e2fa-527958370790"
      },
      "source": [
        "dadosX = dados.loc[:,'temp_SEP':]\n",
        "dadosy = dados['produtividade']\n",
        "dadosTX = transformacao(dadosX)\n",
        "\n",
        "validacao = RepeatedKFold(n_splits = 10, n_repeats = 30)\n",
        "\n",
        "resultado1 = []\n",
        "for i in np.arange(len(lista_transf)):\n",
        "  res = CompareML_kfold(dadosTX[i], dadosy, lista_de_modelos, nome_dos_modelos, validacao)\n",
        "  resultado1.append(res)\n",
        "\n",
        "for i in np.arange(len(resultado1)):\n",
        "  print(\"Transformação : \"+lista_transf[i])\n",
        "  print(resultado1[i])\n",
        "  print()"
      ],
      "execution_count": 130,
      "outputs": [
        {
          "output_type": "stream",
          "name": "stdout",
          "text": [
            "Transformação : Standard\n",
            "                     R2            EQM         EMA\n",
            "LinearReg     -0.041260 -424015.223907 -515.691430\n",
            "LassoLars      0.207619 -320116.732030 -449.329009\n",
            "Ridge          0.150701 -340090.803738 -457.714613\n",
            "BayesianRidge  0.207485 -323293.358033 -448.738376\n",
            "Knn            0.170248 -343184.717631 -461.423020\n",
            "DTree         -0.135090 -454816.323149 -531.600733\n",
            "RanFor         0.312657 -279147.654029 -424.165288\n",
            "GradBoost      0.261611 -299910.279849 -433.581236\n",
            "LGBM           0.254975 -301548.798497 -436.251318\n",
            "\n",
            "Transformação : Quantile\n",
            "                     R2            EQM         EMA\n",
            "LinearReg      0.045993 -387180.934827 -485.910632\n",
            "LassoLars      0.239509 -313072.100104 -438.587245\n",
            "Ridge          0.217186 -320076.230236 -442.332784\n",
            "BayesianRidge  0.216768 -324985.191969 -449.551737\n",
            "Knn            0.226162 -319800.301209 -443.259459\n",
            "DTree         -0.148451 -455489.487155 -537.994350\n",
            "RanFor         0.306857 -284084.905890 -426.530124\n",
            "GradBoost      0.227005 -307124.128852 -440.893913\n",
            "LGBM           0.274994 -292260.718883 -431.442378\n",
            "\n",
            "Transformação : Normalizer\n",
            "                     R2            EQM         EMA\n",
            "LinearReg     -0.095412 -439606.080748 -522.189496\n",
            "LassoLars      0.161430 -344449.181924 -464.991461\n",
            "Ridge         -0.016530 -424814.692535 -514.389752\n",
            "BayesianRidge  0.053716 -391187.877009 -495.516985\n",
            "Knn           -0.134843 -468139.139707 -523.295779\n",
            "DTree         -0.318316 -513081.892657 -566.289997\n",
            "RanFor         0.168975 -337469.220873 -473.299386\n",
            "GradBoost      0.110216 -358403.762178 -478.092036\n",
            "LGBM           0.133126 -353289.440443 -479.435487\n",
            "\n"
          ]
        }
      ]
    },
    {
      "cell_type": "markdown",
      "metadata": {
        "id": "xKawtQ0mps6C"
      },
      "source": [
        "No teste com todos os campos os melhores resultados em media foram obtidos na tranformação *Quantile* e independente da transformação os métodos não lineares obtiveram os melhores R2, destacando o *Randon Forest* e o *LGBM*.\n",
        "\n",
        "Uma observação importante é que alguns métodos tiveram um R2 negativo, isto indica que o método não conseguiu convergir adequadamente."
      ]
    },
    {
      "cell_type": "markdown",
      "metadata": {
        "id": "9OBhfR7ZCXZm"
      },
      "source": [
        "###**5.4 - Seleção de Variáveis** <a name=\"selecao\"></a>\n",
        "\n",
        "Agora para tentar obter um melhor resultado irei aplicar 2 técnicas de seleção de variáveis:\n",
        "* Maior Correlação\n",
        "* Pelas Features mais importantes pela classificação do Randon Forest"
      ]
    },
    {
      "cell_type": "markdown",
      "metadata": {
        "id": "ebMLM0QF4zoD"
      },
      "source": [
        "####**5.4.1 - Maior Correlação** <a name=\"correlacao\"></a>\n",
        "\n",
        "Neste método calculo a correlação de todas as features independentes em relação a variável alvo, pego o valor absoluto e assim ordeno pelos valores maiores independente se a correlação é positiva ou negativa. "
      ]
    },
    {
      "cell_type": "code",
      "metadata": {
        "id": "Gn1-usMSCtwW",
        "colab": {
          "base_uri": "https://localhost:8080/"
        },
        "outputId": "3da93d83-f3e8-45aa-b879-69deeeb5abde"
      },
      "source": [
        "df_corProdut = dados.corr()['produtividade']\n",
        "df_corProdut.drop(labels=['produtividade'],inplace=True)\n",
        "df_corProdut = df_corProdut.abs()\n",
        "df_corProdut.sort_values(inplace=True, ascending=False)\n",
        "df_corProdut"
      ],
      "execution_count": 131,
      "outputs": [
        {
          "output_type": "execute_result",
          "data": {
            "text/plain": [
              "temp_OCT          0.401774\n",
              "temp_ANN          0.399748\n",
              "Qo_DEC            0.379262\n",
              "Qo_SEP            0.369492\n",
              "Qo_NOV            0.357306\n",
              "tmin_ANN          0.356473\n",
              "tmin_OCT          0.353817\n",
              "vv_ANN            0.352202\n",
              "vv_SEP            0.343114\n",
              "vv_OCT            0.326006\n",
              "temp_SEP          0.323144\n",
              "vv_NOV            0.322472\n",
              "temp_NOV          0.309277\n",
              "vv_DEC            0.304819\n",
              "Qo_OCT            0.289447\n",
              "tmax_OCT          0.278661\n",
              "ur_OCT            0.257458\n",
              "tamplitude_DEC    0.235713\n",
              "tmin_DEC          0.226548\n",
              "ur_SEP            0.225764\n",
              "ue_DEC            0.221084\n",
              "tmin_NOV          0.212696\n",
              "Prec_SEP          0.211321\n",
              "tmax_SEP          0.210221\n",
              "tmax_ANN          0.204730\n",
              "ur_ANN            0.186805\n",
              "tmax_NOV          0.181309\n",
              "tmin_SEP          0.149398\n",
              "ur_DEC            0.142259\n",
              "umidsolos_DEC     0.119385\n",
              "tmax_DEC          0.113341\n",
              "ur_NOV            0.105907\n",
              "Prec_OCT          0.098858\n",
              "Qg_SEP            0.094924\n",
              "Prec_DEC          0.082669\n",
              "ue_ANN            0.077345\n",
              "tamplitude_ANN    0.076948\n",
              "ue_NOV            0.064117\n",
              "Prec_ANN          0.060066\n",
              "umidsolos_OCT     0.048454\n",
              "Qg_ANN            0.046566\n",
              "ue_SEP            0.039360\n",
              "Prec_NOV          0.038315\n",
              "Qg_NOV            0.037978\n",
              "umidsolos_SEP     0.037860\n",
              "tamplitude_SEP    0.036360\n",
              "umidsolos_ANN     0.025331\n",
              "Qg_DEC            0.025275\n",
              "umidsolos_NOV     0.021712\n",
              "tamplitude_OCT    0.015862\n",
              "Qg_OCT            0.012780\n",
              "Qo_ANN            0.006980\n",
              "temp_DEC          0.004692\n",
              "tamplitude_NOV    0.003061\n",
              "ue_OCT            0.001155\n",
              "Name: produtividade, dtype: float64"
            ]
          },
          "metadata": {},
          "execution_count": 131
        }
      ]
    },
    {
      "cell_type": "markdown",
      "metadata": {
        "id": "1_9jn_-tjx5B"
      },
      "source": [
        "Com as features ordenadas pelas de maiores correlação posso utilizar a função de teste de seleção explicada acima em \"Funções\"; para rodar o teste utilizei o modelo Lasso Lars visto ter sido o melhor modelo linear no teste anterior com todas as variáveis. "
      ]
    },
    {
      "cell_type": "code",
      "metadata": {
        "id": "axDx9C-RJbbz"
      },
      "source": [
        "modelo = LassoLars()\n",
        "validacao = RepeatedKFold(n_splits = 10, n_repeats = 30)\n",
        "resultados2 = []\n",
        "dadosX = dados.loc[:,'temp_SEP':]\n",
        "dadosy = dados['produtividade']\n",
        "dadosTX = transformacao(dadosX)\n",
        "\n",
        "for t in [0,1,2]:\n",
        "  r = SelectFeatures(modelo, dadosTX[t], dadosy, validacao, df_corProdut)\n",
        "  resultados2.append(r)"
      ],
      "execution_count": 132,
      "outputs": []
    },
    {
      "cell_type": "code",
      "metadata": {
        "id": "0jhQz3N_eSRL"
      },
      "source": [
        "best_p1 = 0\n",
        "best_t1 = 0\n",
        "best_q1 = 0\n",
        "\n",
        "for t in [0,1,2]:\n",
        "  for q in np.arange(len(resultados2[t])):\n",
        "    if resultados2[t]['Performance'][q] > best_p1:\n",
        "      best_p1 = resultados2[t]['Performance'][q]\n",
        "      best_t1 = t\n",
        "      best_q1 = int(resultados2[t]['Qtd'][q])"
      ],
      "execution_count": 133,
      "outputs": []
    },
    {
      "cell_type": "markdown",
      "metadata": {
        "id": "oBAInNMyeaQH"
      },
      "source": [
        "Após rodar o teste de seleção foi obtido o seguinte resultado:"
      ]
    },
    {
      "cell_type": "code",
      "metadata": {
        "colab": {
          "base_uri": "https://localhost:8080/"
        },
        "id": "k6PvyLtdeSyl",
        "outputId": "084df9a4-9b44-4a0a-97c0-563b5b27c92c"
      },
      "source": [
        "print(\"Melhor Performance:\", best_p1)\n",
        "print(\"com a Qtd de features:\", best_q1)\n",
        "print(\"na Transformação:\", lista_transf[best_t1])"
      ],
      "execution_count": 134,
      "outputs": [
        {
          "output_type": "stream",
          "name": "stdout",
          "text": [
            "Melhor Performance: 0.23526305630338537\n",
            "com a Qtd de features: 55\n",
            "na Transformação: Quantile\n"
          ]
        }
      ]
    },
    {
      "cell_type": "markdown",
      "metadata": {
        "id": "kq62sL9IvFHF"
      },
      "source": [
        "Abaixo podemos ver todos os resultados obtidos de forma gráfica:"
      ]
    },
    {
      "cell_type": "code",
      "metadata": {
        "colab": {
          "base_uri": "https://localhost:8080/",
          "height": 1000
        },
        "id": "Qldj487LwB4D",
        "outputId": "4526b660-5278-415c-cdef-703a63aa7c99"
      },
      "source": [
        "fig, axs = plt.subplots(3,  figsize = [14,20])\n",
        "\n",
        "for n in [0,1,2]:\n",
        "  axs[n].plot(resultados2[n]['Qtd'], resultados2[n]['Performance'])\n",
        "  axs[n].set_title(lista_transf[n])\n",
        "  axs[n].grid()\n",
        "  axs[n].set_xticks(resultados2[0]['Qtd'])\n",
        "  axs[n].set_yticks(np.arange(0.00, 0.30,0.01))\n",
        "\n",
        "axs[0].set(xlabel='Qtd', ylabel='Performance')\n",
        "plt.show()"
      ],
      "execution_count": 135,
      "outputs": [
        {
          "output_type": "display_data",
          "data": {
            "image/png": "[encoded data removed]",
            "text/plain": [
              "<Figure size 1008x1440 with 3 Axes>"
            ]
          },
          "metadata": {
            "needs_background": "light"
          }
        }
      ]
    },
    {
      "cell_type": "markdown",
      "metadata": {
        "id": "cuComTSafCoe"
      },
      "source": [
        "Com a definição da quantidade de features faço agora a seleção dos campos que serão utilizados para teste dos modelos"
      ]
    },
    {
      "cell_type": "code",
      "metadata": {
        "colab": {
          "base_uri": "https://localhost:8080/"
        },
        "id": "4ZJzb7Yu8aSe",
        "outputId": "41ab6bfd-30f0-4115-b0b4-e31f2f17066f"
      },
      "source": [
        "features_correl = df_corProdut.iloc[0:best_q1].index.tolist()\n",
        "features_correl"
      ],
      "execution_count": 136,
      "outputs": [
        {
          "output_type": "execute_result",
          "data": {
            "text/plain": [
              "['temp_OCT',\n",
              " 'temp_ANN',\n",
              " 'Qo_DEC',\n",
              " 'Qo_SEP',\n",
              " 'Qo_NOV',\n",
              " 'tmin_ANN',\n",
              " 'tmin_OCT',\n",
              " 'vv_ANN',\n",
              " 'vv_SEP',\n",
              " 'vv_OCT',\n",
              " 'temp_SEP',\n",
              " 'vv_NOV',\n",
              " 'temp_NOV',\n",
              " 'vv_DEC',\n",
              " 'Qo_OCT',\n",
              " 'tmax_OCT',\n",
              " 'ur_OCT',\n",
              " 'tamplitude_DEC',\n",
              " 'tmin_DEC',\n",
              " 'ur_SEP',\n",
              " 'ue_DEC',\n",
              " 'tmin_NOV',\n",
              " 'Prec_SEP',\n",
              " 'tmax_SEP',\n",
              " 'tmax_ANN',\n",
              " 'ur_ANN',\n",
              " 'tmax_NOV',\n",
              " 'tmin_SEP',\n",
              " 'ur_DEC',\n",
              " 'umidsolos_DEC',\n",
              " 'tmax_DEC',\n",
              " 'ur_NOV',\n",
              " 'Prec_OCT',\n",
              " 'Qg_SEP',\n",
              " 'Prec_DEC',\n",
              " 'ue_ANN',\n",
              " 'tamplitude_ANN',\n",
              " 'ue_NOV',\n",
              " 'Prec_ANN',\n",
              " 'umidsolos_OCT',\n",
              " 'Qg_ANN',\n",
              " 'ue_SEP',\n",
              " 'Prec_NOV',\n",
              " 'Qg_NOV',\n",
              " 'umidsolos_SEP',\n",
              " 'tamplitude_SEP',\n",
              " 'umidsolos_ANN',\n",
              " 'Qg_DEC',\n",
              " 'umidsolos_NOV',\n",
              " 'tamplitude_OCT',\n",
              " 'Qg_OCT',\n",
              " 'Qo_ANN',\n",
              " 'temp_DEC',\n",
              " 'tamplitude_NOV',\n",
              " 'ue_OCT']"
            ]
          },
          "metadata": {},
          "execution_count": 136
        }
      ]
    },
    {
      "cell_type": "markdown",
      "metadata": {
        "id": "raEUJzY-fuXM"
      },
      "source": [
        "E rodo novamente os modelos com a seleção de features para observar os resultados"
      ]
    },
    {
      "cell_type": "code",
      "metadata": {
        "colab": {
          "base_uri": "https://localhost:8080/"
        },
        "id": "bV3VcOxW91wg",
        "outputId": "8445a6cc-2b57-4ca8-ac86-84d26270e812"
      },
      "source": [
        "dadosCorX = dados[features_correl]\n",
        "dadosy = dados['produtividade']\n",
        "dadosCorTX = transformacao(dadosCorX)\n",
        "validacao = RepeatedKFold(n_splits = 10, n_repeats = 30)\n",
        "\n",
        "resultado2 = []\n",
        "for i in np.arange(len(lista_transf)):\n",
        "  res = CompareML_kfold(dadosCorTX[i], dadosy, lista_de_modelos, nome_dos_modelos, validacao)\n",
        "  resultado2.append(res)\n",
        "\n",
        "for i in np.arange(len(resultado2)):\n",
        "  print(\"Transformação : \"+lista_transf[i])\n",
        "  print(resultado2[i])\n",
        "  print()"
      ],
      "execution_count": 137,
      "outputs": [
        {
          "output_type": "stream",
          "name": "stdout",
          "text": [
            "Transformação : Standard\n",
            "                     R2            EQM         EMA\n",
            "LinearReg     -0.059633 -420178.043303 -513.029062\n",
            "LassoLars      0.212962 -321705.005450 -451.608155\n",
            "Ridge          0.147216 -340718.389405 -458.098085\n",
            "BayesianRidge  0.214000 -326600.187781 -450.982383\n",
            "Knn            0.174332 -339904.855421 -460.744606\n",
            "DTree         -0.136464 -448637.145329 -531.923668\n",
            "RanFor         0.300584 -283488.326554 -426.601542\n",
            "GradBoost      0.239224 -304386.219961 -437.236520\n",
            "LGBM           0.264525 -294618.601035 -433.302020\n",
            "\n",
            "Transformação : Quantile\n",
            "                     R2            EQM         EMA\n",
            "LinearReg      0.025968 -394777.713713 -490.952470\n",
            "LassoLars      0.248086 -312609.328509 -437.981404\n",
            "Ridge          0.226576 -319152.494597 -442.017183\n",
            "BayesianRidge  0.214049 -323425.970566 -448.714801\n",
            "Knn            0.217143 -322427.827953 -444.036933\n",
            "DTree         -0.132019 -455568.339953 -534.675841\n",
            "RanFor         0.298979 -280494.786517 -425.634137\n",
            "GradBoost      0.232884 -304651.499835 -438.710414\n",
            "LGBM           0.249475 -298162.533962 -437.391132\n",
            "\n",
            "Transformação : Normalizer\n",
            "                     R2            EQM         EMA\n",
            "LinearReg     -0.091350 -438648.936580 -522.940089\n",
            "LassoLars      0.166966 -344670.105746 -464.154108\n",
            "Ridge         -0.016957 -425292.481635 -514.712387\n",
            "BayesianRidge  0.079242 -386739.506336 -492.243275\n",
            "Knn           -0.110489 -462073.333426 -518.470008\n",
            "DTree         -0.297312 -510093.015548 -565.501266\n",
            "RanFor         0.172133 -336795.263907 -472.938495\n",
            "GradBoost      0.114057 -357333.686580 -477.837952\n",
            "LGBM           0.108475 -350965.398126 -477.465138\n",
            "\n"
          ]
        }
      ]
    },
    {
      "cell_type": "markdown",
      "metadata": {
        "id": "m-l5Ivo59UsN"
      },
      "source": [
        "A expectativa seria que ao final do teste fosse possível determinar qual melhor combinação de features traria um melhor resultado para um modelo linear, visto que selecionamos as features de maior correlação, e realmente houve em média uma melhora nos resultados obtidos nestes modelos. \n",
        "\n",
        "Porém constatei também que os melhores resultados obtidos com os modelos lineares não superaram os dos modelos não lineares, que por sua vez devem ainda trazer melhores resultados ao ser utilizado técnicas de seleção específicas para estes modelos. \n",
        "\n",
        "Logo esta metodologia de seleção de variáveis provavelmente não será a melhor opção para este problema."
      ]
    },
    {
      "cell_type": "markdown",
      "metadata": {
        "id": "Jf_TzqjWfooa"
      },
      "source": [
        "####**5.4.2 - Features Importants** <a name=\"fimportantes\"></a>\n",
        "\n",
        "Utilizando o Randon Forest podemos aproveitar um atributo do próprio modelo para identificar quais são as features mais importantes identificadas. \n",
        "Primeiro rodo o modelo com todas as variáveis e depois armazeno a lista das variáveis ordenando pela informação \"feature importances\" gerada pelo modelo. "
      ]
    },
    {
      "cell_type": "code",
      "metadata": {
        "id": "NpDMP43LmZMJ"
      },
      "source": [
        "modelo = RandomForestRegressor() \n",
        "dadosX = dados.loc[:,'temp_SEP':]\n",
        "dadosy = dados['produtividade']\n",
        "dadosTX = transformacao(dadosX)\n",
        "\n",
        "modelo.fit(dadosTX[0], dadosy)\n",
        "variaveis = pd.DataFrame()\n",
        "variaveis['variavel'] = dadosTX[0].columns\n",
        "variaveis['importância'] = modelo.feature_importances_\n",
        "variaveis.sort_values(by = 'importância', ascending = False, inplace = True)"
      ],
      "execution_count": 138,
      "outputs": []
    },
    {
      "cell_type": "code",
      "metadata": {
        "colab": {
          "base_uri": "https://localhost:8080/"
        },
        "id": "5JCf0qfR4FEc",
        "outputId": "2dbe681b-cc04-42ed-928b-5ae7384fa6a2"
      },
      "source": [
        "features_import = pd.Series(data=variaveis['importância'].array, index=variaveis['variavel'].array)\n",
        "features_import"
      ],
      "execution_count": 139,
      "outputs": [
        {
          "output_type": "execute_result",
          "data": {
            "text/plain": [
              "vv_DEC            0.070874\n",
              "temp_OCT          0.056983\n",
              "vv_SEP            0.053868\n",
              "vv_OCT            0.048656\n",
              "tmin_OCT          0.046636\n",
              "ue_DEC            0.042364\n",
              "umidsolos_ANN     0.037524\n",
              "Prec_SEP          0.036857\n",
              "temp_ANN          0.032004\n",
              "Qo_NOV            0.027021\n",
              "tmin_SEP          0.026305\n",
              "Qg_SEP            0.025147\n",
              "umidsolos_NOV     0.023894\n",
              "Qo_SEP            0.023700\n",
              "Qg_OCT            0.018604\n",
              "umidsolos_DEC     0.018427\n",
              "tmax_DEC          0.017878\n",
              "Qg_NOV            0.017591\n",
              "umidsolos_OCT     0.017562\n",
              "Qg_DEC            0.016394\n",
              "tmin_ANN          0.015545\n",
              "ue_ANN            0.015212\n",
              "temp_NOV          0.015018\n",
              "ue_NOV            0.015009\n",
              "umidsolos_SEP     0.014669\n",
              "Qg_ANN            0.013823\n",
              "ur_DEC            0.013608\n",
              "tmax_ANN          0.013074\n",
              "Prec_NOV          0.012784\n",
              "tamplitude_ANN    0.012568\n",
              "ur_OCT            0.011494\n",
              "Qo_DEC            0.011447\n",
              "temp_SEP          0.011338\n",
              "temp_DEC          0.010529\n",
              "Qo_OCT            0.010439\n",
              "tmax_NOV          0.009804\n",
              "vv_ANN            0.009478\n",
              "Prec_ANN          0.009329\n",
              "vv_NOV            0.009149\n",
              "tamplitude_SEP    0.009024\n",
              "tamplitude_OCT    0.008930\n",
              "ur_SEP            0.008589\n",
              "tamplitude_DEC    0.008480\n",
              "ue_SEP            0.008040\n",
              "tmin_NOV          0.007476\n",
              "Prec_OCT          0.007338\n",
              "Prec_DEC          0.007280\n",
              "tmax_OCT          0.007280\n",
              "tamplitude_NOV    0.006947\n",
              "tmax_SEP          0.006768\n",
              "ue_OCT            0.006757\n",
              "ur_NOV            0.006488\n",
              "ur_ANN            0.003827\n",
              "tmin_DEC          0.003578\n",
              "Qo_ANN            0.000598\n",
              "dtype: float64"
            ]
          },
          "metadata": {},
          "execution_count": 139
        }
      ]
    },
    {
      "cell_type": "markdown",
      "metadata": {
        "id": "xKyOmLZ_tM9N"
      },
      "source": [
        "Com a lista ordenada de features posso rodar as simulações novamente utilizando a função de seleção de features."
      ]
    },
    {
      "cell_type": "code",
      "metadata": {
        "id": "yiDEZ3xtlRe7"
      },
      "source": [
        "validacao = RepeatedKFold(n_splits = 10, n_repeats = 30)\n",
        "resultados3 = []\n",
        "\n",
        "for t in [0,1,2]:\n",
        "  r = SelectFeatures(modelo, dadosTX[t], dadosy, validacao, features_import)\n",
        "  resultados3.append(r)"
      ],
      "execution_count": 140,
      "outputs": []
    },
    {
      "cell_type": "code",
      "metadata": {
        "id": "9hAlbRx-1fhZ"
      },
      "source": [
        "best_p2 = 0\n",
        "best_t2 = 0\n",
        "best_q2 = 0\n",
        "\n",
        "for t in [0,1,2]:\n",
        "  for q in np.arange(len(resultados3[t])):\n",
        "    if resultados3[t]['Performance'][q] > best_p2:\n",
        "      best_p2 = resultados3[t]['Performance'][q]\n",
        "      best_t2 = t\n",
        "      best_q2 = int(resultados3[t]['Qtd'][q])"
      ],
      "execution_count": 141,
      "outputs": []
    },
    {
      "cell_type": "markdown",
      "metadata": {
        "id": "YPP6bSbMgF4-"
      },
      "source": [
        "E agora observamos os dados do melhor resultado obtido:"
      ]
    },
    {
      "cell_type": "code",
      "metadata": {
        "colab": {
          "base_uri": "https://localhost:8080/"
        },
        "id": "-SMwbxfUUo5q",
        "outputId": "b2a564a1-8dec-406f-8c26-29cbb5fb9021"
      },
      "source": [
        "print(\"Melhor Performance:\", best_p2)\n",
        "print(\"com a Qtd de features:\", best_q2)\n",
        "print(\"na Transformação:\", lista_transf[best_t2])"
      ],
      "execution_count": 142,
      "outputs": [
        {
          "output_type": "stream",
          "name": "stdout",
          "text": [
            "Melhor Performance: 0.33810853922376966\n",
            "com a Qtd de features: 24\n",
            "na Transformação: Quantile\n"
          ]
        }
      ]
    },
    {
      "cell_type": "code",
      "metadata": {
        "colab": {
          "base_uri": "https://localhost:8080/",
          "height": 1000
        },
        "id": "Iss6gjacllaM",
        "outputId": "e7dc6911-5824-4af5-d181-3522be5ec8a6"
      },
      "source": [
        "fig, axs = plt.subplots(3,  figsize = [14,40])\n",
        "\n",
        "for n in [0,1,2]:\n",
        "  axs[n].plot(resultados3[n]['Qtd'], resultados3[n]['Performance'])\n",
        "  axs[n].set_title(lista_transf[n])\n",
        "  axs[n].grid()\n",
        "  axs[n].set_xticks(resultados3[0]['Qtd'])\n",
        "  axs[n].set_yticks(np.arange(0.0, 0.40,0.01))\n",
        "\n",
        "axs[0].set(xlabel='Qtd', ylabel='Performance')\n",
        "plt.show()"
      ],
      "execution_count": 143,
      "outputs": [
        {
          "output_type": "display_data",
          "data": {
            "image/png": "[encoded data removed]",
            "text/plain": [
              "<Figure size 1008x2880 with 3 Axes>"
            ]
          },
          "metadata": {
            "needs_background": "light"
          }
        }
      ]
    },
    {
      "cell_type": "markdown",
      "metadata": {
        "id": "lHOhpcavBVTa"
      },
      "source": [
        "Com os dados da seleção defino o subconjunto de features que obteve a melhor pontuação e rodo novamente os testes com os modelos."
      ]
    },
    {
      "cell_type": "code",
      "metadata": {
        "colab": {
          "base_uri": "https://localhost:8080/"
        },
        "id": "1RsSLb7C0EPe",
        "outputId": "0fc9fd25-5d49-47b9-862a-a61a0c3b9a8d"
      },
      "source": [
        "features_import_selec = variaveis.iloc[0:best_q2,:1]\n",
        "features_import_selec = features_import_selec['variavel'].values.tolist()\n",
        "features_import_selec"
      ],
      "execution_count": 144,
      "outputs": [
        {
          "output_type": "execute_result",
          "data": {
            "text/plain": [
              "['vv_DEC',\n",
              " 'temp_OCT',\n",
              " 'vv_SEP',\n",
              " 'vv_OCT',\n",
              " 'tmin_OCT',\n",
              " 'ue_DEC',\n",
              " 'umidsolos_ANN',\n",
              " 'Prec_SEP',\n",
              " 'temp_ANN',\n",
              " 'Qo_NOV',\n",
              " 'tmin_SEP',\n",
              " 'Qg_SEP',\n",
              " 'umidsolos_NOV',\n",
              " 'Qo_SEP',\n",
              " 'Qg_OCT',\n",
              " 'umidsolos_DEC',\n",
              " 'tmax_DEC',\n",
              " 'Qg_NOV',\n",
              " 'umidsolos_OCT',\n",
              " 'Qg_DEC',\n",
              " 'tmin_ANN',\n",
              " 'ue_ANN',\n",
              " 'temp_NOV',\n",
              " 'ue_NOV']"
            ]
          },
          "metadata": {},
          "execution_count": 144
        }
      ]
    },
    {
      "cell_type": "code",
      "metadata": {
        "id": "_PH7H9EUPV4y",
        "colab": {
          "base_uri": "https://localhost:8080/"
        },
        "outputId": "ab07bdb6-1bfb-4f1a-e608-3734f3af1db3"
      },
      "source": [
        "dadosFeatImpX = dados[features_import_selec]\n",
        "dadosy = dados['produtividade']\n",
        "\n",
        "dadosFeatImpTX = transformacao(dadosFeatImpX)\n",
        "\n",
        "resultado4 = []\n",
        "for i in np.arange(len(lista_transf)):\n",
        "  res = CompareML_kfold(dadosFeatImpTX[i], dadosy, lista_de_modelos, nome_dos_modelos, validacao)\n",
        "  resultado4.append(res)\n",
        "\n",
        "for i in np.arange(len(resultado4)):\n",
        "  print(\"Transformação : \"+lista_transf[i])\n",
        "  print(resultado4[i])\n",
        "  print()"
      ],
      "execution_count": 145,
      "outputs": [
        {
          "output_type": "stream",
          "name": "stdout",
          "text": [
            "Transformação : Standard\n",
            "                     R2            EQM         EMA\n",
            "LinearReg      0.180654 -333075.932448 -456.510531\n",
            "LassoLars      0.210519 -323740.421224 -453.973071\n",
            "Ridge          0.200949 -325498.670346 -451.044732\n",
            "BayesianRidge  0.212261 -322197.922542 -449.466839\n",
            "Knn            0.210755 -317186.435514 -455.027360\n",
            "DTree         -0.127631 -443636.210020 -521.386051\n",
            "RanFor         0.322653 -276433.719654 -420.225687\n",
            "GradBoost      0.289919 -290620.302302 -425.813099\n",
            "LGBM           0.304438 -281150.530229 -422.835062\n",
            "\n",
            "Transformação : Quantile\n",
            "                     R2            EQM         EMA\n",
            "LinearReg      0.169244 -333757.117492 -457.324818\n",
            "LassoLars      0.229199 -317936.065178 -448.309460\n",
            "Ridge          0.217339 -317921.907157 -448.982280\n",
            "BayesianRidge  0.216531 -323199.170351 -452.761198\n",
            "Knn            0.248316 -308546.368711 -439.897791\n",
            "DTree         -0.113691 -445452.565101 -523.837623\n",
            "RanFor         0.326198 -273233.438580 -417.785030\n",
            "GradBoost      0.275270 -294859.305292 -431.813525\n",
            "LGBM           0.280644 -280764.216119 -421.885852\n",
            "\n",
            "Transformação : Normalizer\n",
            "                     R2            EQM         EMA\n",
            "LinearReg      0.176226 -335992.466105 -460.385027\n",
            "LassoLars      0.197006 -332729.095439 -456.074715\n",
            "Ridge          0.008279 -417955.364775 -510.604570\n",
            "BayesianRidge  0.179464 -339976.453181 -461.348980\n",
            "Knn            0.062395 -391162.888526 -490.092772\n",
            "DTree         -0.249464 -495086.232171 -559.740723\n",
            "RanFor         0.193167 -322309.787528 -464.600765\n",
            "GradBoost      0.207062 -324141.617275 -462.023660\n",
            "LGBM           0.194379 -323603.901022 -464.625152\n",
            "\n"
          ]
        }
      ]
    },
    {
      "cell_type": "markdown",
      "metadata": {
        "id": "-ZyvxP24CO36"
      },
      "source": [
        "Com a nova seleção de variáveis os melhores resultados ainda foram com o *Randon Forest* e o *Gradient Boosting* também com a transformação *Standard*."
      ]
    },
    {
      "cell_type": "markdown",
      "metadata": {
        "id": "h9BUWYmZIJsT"
      },
      "source": [
        "###**5.5 - Hipertunagem** <a name=\"hipertunagem\"></a>\n",
        "\n",
        "Após ter identificado os modelos, o subconjunto de features e a tranformação que obtiveram o melhor resultado, posso tentar otimizar os modelos com uma técnica de hipertunagem de parâmetros testando algumas combinações e se estas melhoram os resultados obtidos. "
      ]
    },
    {
      "cell_type": "code",
      "metadata": {
        "id": "P55DmV80IMaY"
      },
      "source": [
        "validacao = RepeatedKFold(n_splits = 10, n_repeats = 30)\n",
        "\n",
        "testeTunModels = [RandomForestRegressor()]\n",
        "testeTunParams = [\n",
        "                  {\n",
        "                   'min_samples_split': [2, 5, 10],\n",
        "                   'min_samples_leaf': [1, 3, 5],\n",
        "                   'max_depth' : [2, 4, 5, 6, 7],\n",
        "                   'n_estimators': [50, 100, 125, 150, 175]\n",
        "                  }\n",
        "]\n",
        "\n",
        "dadosHipX = dados[features_import_selec]\n",
        "dadosy = dados['produtividade']\n",
        "\n",
        "#Standard\n",
        "escalaS = StandardScaler().fit(dadosHipX)\n",
        "transfX = escalaS.transform(dadosHipX)\n",
        "df = pd.DataFrame(transfX, columns=dadosHipX.columns) #Transformando o retorno de numpy.ndarray para data frame\n",
        "dadosHipTX = df"
      ],
      "execution_count": 146,
      "outputs": []
    },
    {
      "cell_type": "code",
      "metadata": {
        "colab": {
          "base_uri": "https://localhost:8080/"
        },
        "id": "Rlo6CAauJjPS",
        "outputId": "0a26ee53-6593-4add-bf37-e82707a155ed"
      },
      "source": [
        "for i in range(len(testeTunModels)):\n",
        "  ret = Tunagem(testeTunModels[i], dadosHipTX, dadosy, testeTunParams[i], validacao, 'r2')\n",
        "  print(ret)"
      ],
      "execution_count": 147,
      "outputs": [
        {
          "output_type": "stream",
          "name": "stdout",
          "text": [
            "Fitting 300 folds for each of 225 candidates, totalling 67500 fits\n",
            "{'bestModel': RandomForestRegressor(max_depth=6, n_estimators=150), 'bestScore': 0.3512870654721305, 'bestParam': {'max_depth': 6, 'min_samples_leaf': 1, 'min_samples_split': 2, 'n_estimators': 150}}\n"
          ]
        }
      ]
    },
    {
      "cell_type": "markdown",
      "metadata": {
        "id": "aE63rDwbhSw6"
      },
      "source": [
        "No resultado da hipertunagem o *Randon Forest* se manteve como o melhor modelo ainda obtendo uma melhoria no resultado com algumas mudanças nos parâmetros utilizados."
      ]
    },
    {
      "cell_type": "code",
      "metadata": {
        "id": "h06qMVcgYMFo"
      },
      "source": [
        "#Best Selection\n",
        "#'bestParam': {'max_depth': 6, 'min_samples_leaf': 1, 'min_samples_split': 2, 'n_estimators': 150}"
      ],
      "execution_count": 148,
      "outputs": []
    },
    {
      "cell_type": "markdown",
      "metadata": {
        "id": "1QhTfl-Dhi-h"
      },
      "source": [
        "###**5.6 - Modelo Final** <a name=\"final\"></a>\n",
        "\n",
        "Com todos os resultados e parâmetros obtidos nos passos anteriores é possível agora configurar o modelo final "
      ]
    },
    {
      "cell_type": "code",
      "metadata": {
        "colab": {
          "base_uri": "https://localhost:8080/"
        },
        "id": "PHvKpX-8hmVc",
        "outputId": "9a8e409a-f1ee-4811-ccb6-fe1aa3d0ab45"
      },
      "source": [
        "dadosFX = dados[features_import_selec]\n",
        "dadosy = dados['produtividade']\n",
        "\n",
        "#Transformação\n",
        "escalaS = StandardScaler().fit(dadosFX)\n",
        "transfX = escalaS.transform(dadosFX)\n",
        "df = pd.DataFrame(transfX, columns=dadosFX.columns)\n",
        "dadosFTX = df\n",
        "\n",
        "modelo = RandomForestRegressor(max_depth=6, min_samples_leaf=1, min_samples_split=2, n_estimators=150)\n",
        "modelo.fit(dadosFTX, dadosy)\n"
      ],
      "execution_count": 149,
      "outputs": [
        {
          "output_type": "execute_result",
          "data": {
            "text/plain": [
              "RandomForestRegressor(max_depth=6, n_estimators=150)"
            ]
          },
          "metadata": {},
          "execution_count": 149
        }
      ]
    },
    {
      "cell_type": "markdown",
      "metadata": {
        "id": "Ak_S9_e1_fK8"
      },
      "source": [
        "##**6 - Conclusão** <a name=\"conclusao\"></a>\n",
        "\n",
        "Nos testes realizados foi possível obter um r2 médio de cerca de 0.35, esta métrica indica que com apenas os dados meteorológicos podemos explicar até 35% da variabilidade da produtividade na cultura do amendoim, com isso é possível concluir que: \n",
        "* Os fatores ambientais são sim significativos para o resultado da colheita; \n",
        "* Mas apenas estes fatores são insuficientes para se obter uma predição mais precisa;\n",
        "\n",
        "É bem provável que a inclusão de outros fatores na análise como: condições do solo, qualidade das sementes e características do manejo, tragam uma melhora na predição de produtividade do modelo.\n",
        "Além disso, um quantidade maior de registros, preferencialmente com variação da região analisada, pode trazer uma melhor confiabilidade ao modelo.\n",
        "\n",
        "Uma análise interessante a ser feita é a observação das principais features selecionadas tanto pelo método final utilizando o Randon Forest quanto pelo método de seleção das variáveis de maior correlação, cruzando as 2 seleções temos destaque para:\n",
        "* A Precipitação no início do ciclo ( Setembro ); \n",
        "* A Temperatura principalmente de Outubro;\n",
        "* A Irradiação solar dos meses de Setembro e Novembro;\n",
        "* E a Velocidade do Vento em praticamente todo o ciclo, que pode ter relação tanto no controle climática quanto algum impacto físico nas plantas;\n",
        "\n",
        "Entendendo melhor o impacto dessas variáveis na cultivo poderia levar a técnicas ou práticas para se ter maior controle no resultado das colheitas.\n"
      ]
    },
    {
      "cell_type": "markdown",
      "metadata": {
        "id": "CZhygYmeEPmE"
      },
      "source": [
        "##**7 - Fontes** <a name=\"fontes\"></a>\n",
        "\n",
        "**Dados de produção de amendoim**: \n",
        "cedidos pelo prof. Dr. Glauco de Souza Rolim - Unesp / Mini-curso da Penaut Tech\n",
        "\n",
        "**Outras Informações**:\n",
        "\n",
        "* Embrapa - Sistema de Produção de Amendoim : https://www.spo.cnptia.embrapa.br/conteudo?p_p_id=conteudoportlet_WAR_sistemasdeproducaolf6_1ga1ceportlet - Acessado em 01/11/2021\n",
        "\n",
        "* Revista Globo Rural: https://revistagloborural.globo.com/Noticias/Empresas-e-Negocios/noticia/2021/06/exportacao-de-amendoim-natura-brasileiro-cresce-12-em-meio-pandemia.html  - Acessado em 01/11/2021\n"
      ]
    }
  ]
}